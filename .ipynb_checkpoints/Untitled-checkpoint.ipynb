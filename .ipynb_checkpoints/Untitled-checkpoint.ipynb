{
 "cells": [
  {
   "cell_type": "code",
   "execution_count": 8,
   "id": "474de1a3-88e9-427c-980f-92f177a34616",
   "metadata": {},
   "outputs": [
    {
     "name": "stdout",
     "output_type": "stream",
     "text": [
      "Looking in indexes: https://pypi.tuna.tsinghua.edu.cn/simple\n",
      "Requirement already satisfied: appbuilder-sdk in /Users/qiaolongbiao/miniconda3/envs/appbuilder_test/lib/python3.8/site-packages (0.1.0)\n",
      "Requirement already satisfied: requests in /Users/qiaolongbiao/miniconda3/envs/appbuilder_test/lib/python3.8/site-packages (from appbuilder-sdk) (2.31.0)\n",
      "Requirement already satisfied: proto-plus==1.22.3 in /Users/qiaolongbiao/miniconda3/envs/appbuilder_test/lib/python3.8/site-packages (from appbuilder-sdk) (1.22.3)\n",
      "Requirement already satisfied: pydantic==1.10.12 in /Users/qiaolongbiao/miniconda3/envs/appbuilder_test/lib/python3.8/site-packages (from appbuilder-sdk) (1.10.12)\n",
      "Requirement already satisfied: numpy~=1.24.2 in /Users/qiaolongbiao/miniconda3/envs/appbuilder_test/lib/python3.8/site-packages (from appbuilder-sdk) (1.24.4)\n",
      "Requirement already satisfied: SQLAlchemy~=1.4.50 in /Users/qiaolongbiao/miniconda3/envs/appbuilder_test/lib/python3.8/site-packages (from appbuilder-sdk) (1.4.50)\n",
      "Requirement already satisfied: protobuf<5.0.0dev,>=3.19.0 in /Users/qiaolongbiao/miniconda3/envs/appbuilder_test/lib/python3.8/site-packages (from proto-plus==1.22.3->appbuilder-sdk) (4.25.1)\n",
      "Requirement already satisfied: typing-extensions>=4.2.0 in /Users/qiaolongbiao/miniconda3/envs/appbuilder_test/lib/python3.8/site-packages (from pydantic==1.10.12->appbuilder-sdk) (4.9.0)\n",
      "Requirement already satisfied: greenlet!=0.4.17 in /Users/qiaolongbiao/miniconda3/envs/appbuilder_test/lib/python3.8/site-packages (from SQLAlchemy~=1.4.50->appbuilder-sdk) (3.0.3)\n",
      "Requirement already satisfied: charset-normalizer<4,>=2 in /Users/qiaolongbiao/miniconda3/envs/appbuilder_test/lib/python3.8/site-packages (from requests->appbuilder-sdk) (3.3.2)\n",
      "Requirement already satisfied: idna<4,>=2.5 in /Users/qiaolongbiao/miniconda3/envs/appbuilder_test/lib/python3.8/site-packages (from requests->appbuilder-sdk) (3.6)\n",
      "Requirement already satisfied: urllib3<3,>=1.21.1 in /Users/qiaolongbiao/miniconda3/envs/appbuilder_test/lib/python3.8/site-packages (from requests->appbuilder-sdk) (2.1.0)\n",
      "Requirement already satisfied: certifi>=2017.4.17 in /Users/qiaolongbiao/miniconda3/envs/appbuilder_test/lib/python3.8/site-packages (from requests->appbuilder-sdk) (2023.11.17)\n"
     ]
    }
   ],
   "source": [
    "!pip install --upgrade appbuilder-sdk"
   ]
  },
  {
   "cell_type": "code",
   "execution_count": 96,
   "id": "2d58bbd0-7eb8-45aa-95c1-4a8215bfffb7",
   "metadata": {},
   "outputs": [],
   "source": [
    "os.environ[\"APPBUILDER_TOKEN\"] = \"Bearer bce-v3/ALTAK-m1UlYXUuQlDzTVinjs8qt/2bba5b80bd31c7314960446caf7e11e6e4581101\"\n"
   ]
  },
  {
   "cell_type": "markdown",
   "id": "83c2b219-2c97-4918-9c54-c5696ad6e315",
   "metadata": {},
   "source": [
    "# 文档解析组件"
   ]
  },
  {
   "cell_type": "code",
   "execution_count": 20,
   "id": "48916bda-20d8-4cc2-aa2c-ec2914643b45",
   "metadata": {},
   "outputs": [
    {
     "name": "stdout",
     "output_type": "stream",
     "text": [
      "{'tables': [], 'paragraphs': [{'text': '1.径部右侧锁骨上窝椎静脉后方、动脉外侧神经肿瘤你好，这个部位的肿瘤建议使用手术切除治疗，药物治疗效果很差的，再就是位置比较重要的，需要及时治疗。定期复查。2.胃癌晚期能活多久？胃癌治疗得早与晚，效果大不一样。早期胃癌患者手术后五年生存率可以达到90%-95%。治疗方法是否得当是影响胃癌晚期能活多久的最主要因素，提高免疫机能，增强对肿瘤的抵抗力对延长晚期胃癌患者的生存期极为重要。所以单纯的放化疗是不行的，必须配合中医动态疗法，扶正祛邪，攻补兼施，标本兼治3.我爸得的脑癌，已经动了两次手术，现在身体又有毛病。一般的来说，脑瘤晚期辅助治疗主要是为了：抑制恶性癌细胞，防止其继续扩散转移，控制脑瘤的症状，提高患者机体的抵抗力，增加治疗的几率。', 'coord': {'box': [[20, 30, 230, 10], [20, 45, 540, 10], [20, 90, 100, 10], [20, 105, 550, 40], [20, 180, 260, 10]], 'page_num': [0, 0, 0, 0, 0]}, 'node_id': 0}, {'text': '所以单纯的放化疗是不行的，必须配合中医动态疗法，扶正祛邪，攻补兼施，标本兼治3.我爸得的脑癌，已经动了两次手术，现在身体又有毛病。一般的来说，脑瘤晚期辅助治疗主要是为了：抑制恶性癌细胞，防止其继续扩散转移，控制脑瘤的症状，提高患者机体的抵抗力，增加治疗的几率。脑瘤晚期的患者中大多数都是不适合手术治疗的，因为脑瘤晚期患者身体比较虚弱甚至不能承受放化疗治疗，这种情况下辅助治疗是最好的治疗方法了4.男，75岁，五月底查出胰腺癌胰腺癌治疗方法主要有手术、化疗和放疗。手术切除适合于早期胰腺癌，采取局部切除的方式。胰腺癌化疗，由于化疗药物对肿瘤细胞和正常细胞没有太大的选择性，化疗药物在杀伤肿瘤细胞的同时，也杀伤了人体正常细胞。会产生一系列副作用，患者承受的痛苦大。所以，更多的晚期胰腺癌患者倾向于选择放疗5.患者女50岁，外阴一侧有一个3*5厘米瘤子，约六七年了，以前小，不疼不痒，请问怎样治疗、你说的症状建议去外科就诊，应该通过手术切除治疗配合抗消炎的药物治疗，平时饮食以清淡为主忌辛辣刺激食物，注意卫生。6.病情有点严重，在当地医院做了胃切除手术根据你说的症状建议通过化疗，放疗，补中益气，升阳的药物治疗，提高免疫力，保持心情舒畅饮食合理搭配看看，注意休息。7.皮肤上长有两大块像廯一样的东西，一块是痒的，一块有点痛。早期癌肿无深部浸润及淋巴结转移时，可将局部病变彻底切除，一般应较基底细胞癌的切除范围更广。切除后创面用皮片或皮瓣修复。手术前、后可考虑用抗癌化学药物治疗。', 'coord': {'box': [[20, 195, 550, 40], [20, 270, 140, 10], [20, 285, 550, 40], [20, 360, 430, 10], [20, 375, 550, 25], [20, 435, 200, 10], [20, 450, 550, 25], [20, 510, 290, 10], [20, 525, 550, 25]], 'page_num': [0, 0, 0, 0, 0, 0, 0, 0, 0]}, 'node_id': 1}]}\n"
     ]
    }
   ],
   "source": [
    "# 文档解析示例\n",
    "\n",
    "import os\n",
    "from appbuilder.core.components.doc_parser.doc_parser import DocParser\n",
    "from appbuilder.core.components.doc_splitter.doc_splitter import DocSplitter\n",
    "from appbuilder.core.message import Message\n",
    "\n",
    "\n",
    "\n",
    "# 先解析\n",
    "msg = Message(\"./assets/中文医疗问答数据集.txt\")\n",
    "parser = DocParser()\n",
    "parse_result = parser(msg, return_raw=True)\n",
    "\n",
    "# 基于parser的结果切分段落\n",
    "splitter = DocSplitter(splitter_type=\"split_by_chunk\")\n",
    "res_paras = splitter(parse_result)\n",
    "\n",
    "# 打印结果\n",
    "print(res_paras.content)"
   ]
  },
  {
   "cell_type": "markdown",
   "id": "d355e48a-6168-4065-9f6d-2f2c30fc245e",
   "metadata": {},
   "source": [
    "# 阅读理解问题（MRC)组件"
   ]
  },
  {
   "cell_type": "code",
   "execution_count": 11,
   "id": "f0bfb256-0fa4-41b7-8237-46c0ddc593d1",
   "metadata": {},
   "outputs": [
    {
     "name": "stdout",
     "output_type": "stream",
     "text": [
      "Message(name=msg, content=残疾人可以办理残疾人通行证，需要满足以下条件^[1]^：\n",
      "\n",
      "1. 持有中华人民共和国残疾人证，下肢残疾或者听力残疾；\n",
      "2. 持有准驾车型为C1（听力残疾）、C2（左下肢残疾、听力残疾）；\n",
      "3. 本人拥有本市登记核发的非营运小型载客汽车，车辆须在检验有效期内，并有有效交强险凭证，C5车辆加装操纵辅助装置后已办理变更手续。\n",
      "\n",
      "办理地点在北京市朝阳区左家庄北里35号^[2]^。, mtype=dict)\n"
     ]
    }
   ],
   "source": [
    "import appbuilder\n",
    "\n",
    "# 创建MRC对象\n",
    "mrc_component = appbuilder.MRC(model=\"ernie-bot\")\n",
    "\n",
    "# 初始化参数\n",
    "msg = \"残疾人怎么办相关证件\"\n",
    "msg = appbuilder.Message(msg)\n",
    "context_list = appbuilder.Message([\"\"\"如何办理残疾人通行证一、残疾人通行证办理条件：\n",
    "1、持有中华人民共和国残疾人证，下肢残疾或者听力残疾；\n",
    "2、持有准驾车型为C1（听力残疾）、C2（左下肢残疾、听力残疾）\"\"\",\n",
    "                    \"\"\"3、本人拥有本市登记核发的非营运小型载客汽车，车辆须在检验有效期内，并有有效交强险凭证，\n",
    "C5车辆加装操纵辅助装置后已办理变更手续。二、办理地点：北京市朝阳区左家庄北里35号：\n",
    "北京市无障碍环境建设促进中心\"\"\"])\n",
    "\n",
    "# 模拟运行MRC组件，开启拒答、澄清追问、重点强调、友好性提升和溯源能力五个功能\n",
    "result = mrc_component.run(msg, context_list, reject=True,\n",
    "                           clarify=True, highlight=True, friendly=True, cite=True)\n",
    "\n",
    "# 输出运行结果\n",
    "print(result)"
   ]
  },
  {
   "cell_type": "markdown",
   "id": "a4ce8453-0f16-43b0-b899-bccfc26e8230",
   "metadata": {},
   "source": [
    "# 短语音极速版本（ASR）组件"
   ]
  },
  {
   "cell_type": "code",
   "execution_count": 97,
   "id": "39d0a5a5-71d5-441b-8fc0-88f496bac31d",
   "metadata": {},
   "outputs": [
    {
     "name": "stdout",
     "output_type": "stream",
     "text": [
      "Message(name=msg, content={'result': ['本工具支持中英文的文本转音频调用的接口为语音技术短文本语音合成工具使用方法，一单文本语音合成和批量文本，语音合成二选一，点击提交即可获取合成结果二其他参数无需填写与配置默认值三单文本字数尽量不超过60个汉字，不要带特殊符号。']}, mtype=dict)\n"
     ]
    }
   ],
   "source": [
    "import appbuilder\n",
    "\n",
    "asr = appbuilder.ASR()\n",
    "\n",
    "with open(\"./assets/00000000_1690886614242492722.pcm\", \"rb\") as f:\n",
    "    audio_data = f.read()\n",
    "content_data = {\"audio_format\": \"pcm\", \"raw_audio\": audio_data, \"rate\": 16000}\n",
    "msg = appbuilder.Message(content_data)\n",
    "result = asr.run(msg)\n",
    "\n",
    "print(result)"
   ]
  },
  {
   "cell_type": "markdown",
   "id": "fbfa2bad-ce3c-485e-a072-e58a0268aa2a",
   "metadata": {},
   "source": [
    "# 会话小结"
   ]
  },
  {
   "cell_type": "code",
   "execution_count": 18,
   "id": "151d5fc7-45f4-4636-bf7e-f385acdb2997",
   "metadata": {},
   "outputs": [
    {
     "name": "stdout",
     "output_type": "stream",
     "text": [
      "Message(name=msg, content={\"诉求\": \"用户想要查询自己的话费余额\", \"回应\": \"坐席告诉用户他的话费余额为87.49元\", \"解决情况\": \"问题已解决\"}, mtype=dict)\n"
     ]
    }
   ],
   "source": [
    "import appbuilder\n",
    "model = \"eb-turbo-appbuilder\"\n",
    "dialog_summary = appbuilder.DialogSummary(model)\n",
    "text = \"\"\"用户:喂我想查一下我的话费\n",
    "坐席:好的女士您话费余的话还有87.49元钱\n",
    "用户:好的知道了谢谢\n",
    "坐席:嗯不客气祝您生活愉快再见\"\"\"\n",
    "answer = dialog_summary(appbuilder.Message(text))\n",
    "print(answer)"
   ]
  },
  {
   "cell_type": "markdown",
   "id": "cf008eaa-9d88-4385-acbb-bc20b03f804d",
   "metadata": {},
   "source": [
    "# 菜品识别"
   ]
  },
  {
   "cell_type": "code",
   "execution_count": 99,
   "id": "51686866-0ca8-4676-b47a-6b93922ed37b",
   "metadata": {},
   "outputs": [
    {
     "ename": "AppBuilderServerException",
     "evalue": "request_id=, code=, message=, service_err_code=14, service_err_message=IAM Certification failed ",
     "output_type": "error",
     "traceback": [
      "\u001b[0;31m---------------------------------------------------------------------------\u001b[0m",
      "\u001b[0;31mAppBuilderServerException\u001b[0m                 Traceback (most recent call last)",
      "Cell \u001b[0;32mIn[99], line 4\u001b[0m\n\u001b[1;32m      2\u001b[0m dish_recognition \u001b[38;5;241m=\u001b[39m appbuilder\u001b[38;5;241m.\u001b[39mDishRecognition()\n\u001b[1;32m      3\u001b[0m \u001b[38;5;28;01mwith\u001b[39;00m \u001b[38;5;28mopen\u001b[39m(\u001b[38;5;124m\"\u001b[39m\u001b[38;5;124m./assets/fuqifeipian.jpeg\u001b[39m\u001b[38;5;124m\"\u001b[39m, \u001b[38;5;124m\"\u001b[39m\u001b[38;5;124mrb\u001b[39m\u001b[38;5;124m\"\u001b[39m) \u001b[38;5;28;01mas\u001b[39;00m f:\n\u001b[0;32m----> 4\u001b[0m     resp \u001b[38;5;241m=\u001b[39m \u001b[43mdish_recognition\u001b[49m\u001b[43m(\u001b[49m\u001b[43mappbuilder\u001b[49m\u001b[38;5;241;43m.\u001b[39;49m\u001b[43mMessage\u001b[49m\u001b[43m(\u001b[49m\u001b[43m{\u001b[49m\u001b[38;5;124;43m\"\u001b[39;49m\u001b[38;5;124;43mraw_image\u001b[39;49m\u001b[38;5;124;43m\"\u001b[39;49m\u001b[43m:\u001b[49m\u001b[43m \u001b[49m\u001b[43mf\u001b[49m\u001b[38;5;241;43m.\u001b[39;49m\u001b[43mread\u001b[49m\u001b[43m(\u001b[49m\u001b[43m)\u001b[49m\u001b[43m}\u001b[49m\u001b[43m)\u001b[49m\u001b[43m)\u001b[49m\n\u001b[1;32m      5\u001b[0m \u001b[38;5;28mprint\u001b[39m(resp)    \n",
      "File \u001b[0;32m~/miniconda3/envs/appbuilder_test/lib/python3.8/site-packages/appbuilder/core/component.py:94\u001b[0m, in \u001b[0;36mComponent.__call__\u001b[0;34m(self, *inputs, **kwargs)\u001b[0m\n\u001b[1;32m     92\u001b[0m \u001b[38;5;28;01mdef\u001b[39;00m \u001b[38;5;21m__call__\u001b[39m(\u001b[38;5;28mself\u001b[39m, \u001b[38;5;241m*\u001b[39minputs, \u001b[38;5;241m*\u001b[39m\u001b[38;5;241m*\u001b[39mkwargs):\n\u001b[1;32m     93\u001b[0m \u001b[38;5;250m    \u001b[39m\u001b[38;5;124mr\u001b[39m\u001b[38;5;124;03m\"\"\"implement __call__ method\"\"\"\u001b[39;00m\n\u001b[0;32m---> 94\u001b[0m     \u001b[38;5;28;01mreturn\u001b[39;00m \u001b[38;5;28;43mself\u001b[39;49m\u001b[38;5;241;43m.\u001b[39;49m\u001b[43mrun\u001b[49m\u001b[43m(\u001b[49m\u001b[38;5;241;43m*\u001b[39;49m\u001b[43minputs\u001b[49m\u001b[43m,\u001b[49m\u001b[43m \u001b[49m\u001b[38;5;241;43m*\u001b[39;49m\u001b[38;5;241;43m*\u001b[39;49m\u001b[43mkwargs\u001b[49m\u001b[43m)\u001b[49m\n",
      "File \u001b[0;32m~/miniconda3/envs/appbuilder_test/lib/python3.8/site-packages/appbuilder/core/components/dish_recognize/component.py:64\u001b[0m, in \u001b[0;36mDishRecognition.run\u001b[0;34m(self, message, timeout, retry)\u001b[0m\n\u001b[1;32m     62\u001b[0m \u001b[38;5;28;01mif\u001b[39;00m inp\u001b[38;5;241m.\u001b[39murl:\n\u001b[1;32m     63\u001b[0m     req\u001b[38;5;241m.\u001b[39murl \u001b[38;5;241m=\u001b[39m inp\u001b[38;5;241m.\u001b[39murl\n\u001b[0;32m---> 64\u001b[0m result \u001b[38;5;241m=\u001b[39m \u001b[38;5;28;43mself\u001b[39;49m\u001b[38;5;241;43m.\u001b[39;49m\u001b[43m_recognize\u001b[49m\u001b[43m(\u001b[49m\u001b[43mreq\u001b[49m\u001b[43m,\u001b[49m\u001b[43m \u001b[49m\u001b[43mtimeout\u001b[49m\u001b[38;5;241;43m=\u001b[39;49m\u001b[43mtimeout\u001b[49m\u001b[43m,\u001b[49m\u001b[43m \u001b[49m\u001b[43mretry\u001b[49m\u001b[38;5;241;43m=\u001b[39;49m\u001b[43mretry\u001b[49m\u001b[43m)\u001b[49m\n\u001b[1;32m     65\u001b[0m result_dict \u001b[38;5;241m=\u001b[39m proto\u001b[38;5;241m.\u001b[39mMessage\u001b[38;5;241m.\u001b[39mto_dict(result)\n\u001b[1;32m     66\u001b[0m out \u001b[38;5;241m=\u001b[39m DishRecognitionOutMsg(\u001b[38;5;241m*\u001b[39m\u001b[38;5;241m*\u001b[39mresult_dict)\n",
      "File \u001b[0;32m~/miniconda3/envs/appbuilder_test/lib/python3.8/site-packages/appbuilder/core/components/dish_recognize/component.py:98\u001b[0m, in \u001b[0;36mDishRecognition._recognize\u001b[0;34m(self, request, timeout, retry)\u001b[0m\n\u001b[1;32m     96\u001b[0m \u001b[38;5;28mself\u001b[39m\u001b[38;5;241m.\u001b[39mcheck_response_json(data)\n\u001b[1;32m     97\u001b[0m \u001b[38;5;28;01mif\u001b[39;00m \u001b[38;5;124m\"\u001b[39m\u001b[38;5;124merror_code\u001b[39m\u001b[38;5;124m\"\u001b[39m \u001b[38;5;129;01min\u001b[39;00m data \u001b[38;5;129;01mand\u001b[39;00m \u001b[38;5;124m\"\u001b[39m\u001b[38;5;124merror_msg\u001b[39m\u001b[38;5;124m\"\u001b[39m \u001b[38;5;129;01min\u001b[39;00m data:\n\u001b[0;32m---> 98\u001b[0m     \u001b[38;5;28;01mraise\u001b[39;00m AppBuilderServerException(service_err_code\u001b[38;5;241m=\u001b[39mdata[\u001b[38;5;124m\"\u001b[39m\u001b[38;5;124merror_code\u001b[39m\u001b[38;5;124m\"\u001b[39m], service_err_message\u001b[38;5;241m=\u001b[39mdata[\u001b[38;5;124m\"\u001b[39m\u001b[38;5;124merror_msg\u001b[39m\u001b[38;5;124m\"\u001b[39m])\n\u001b[1;32m     99\u001b[0m \u001b[38;5;28;01mreturn\u001b[39;00m DishRecognitionResponse(data, request_id\u001b[38;5;241m=\u001b[39m\u001b[38;5;28mself\u001b[39m\u001b[38;5;241m.\u001b[39mresponse_request_id(response))\n",
      "\u001b[0;31mAppBuilderServerException\u001b[0m: request_id=, code=, message=, service_err_code=14, service_err_message=IAM Certification failed "
     ]
    }
   ],
   "source": [
    "import appbuilder\n",
    "dish_recognition = appbuilder.DishRecognition()\n",
    "with open(\"./assets/fuqifeipian.jpeg\", \"rb\") as f:\n",
    "    resp = dish_recognition(appbuilder.Message({\"raw_image\": f.read()}))\n",
    "print(resp)    "
   ]
  },
  {
   "cell_type": "markdown",
   "id": "1a82e26a-08c2-411c-8780-5c05571432b0",
   "metadata": {},
   "source": [
    "# 文档切分"
   ]
  },
  {
   "cell_type": "code",
   "execution_count": 29,
   "id": "8baa329b-529e-4b82-b029-dbf38af91bad",
   "metadata": {},
   "outputs": [
    {
     "name": "stdout",
     "output_type": "stream",
     "text": [
      "{'tables': [], 'paragraphs': [{'text': '美術學校信息概覽：置信度為0.5，返回數量為10描述：介紹美術類專業學校的基礎信息，包括宿舍情況，周圍設施情況，交通情況，院校介紹，地理位置，學科情況以及學科評定等級等。美術學校相關專業錄取條件參考⽤來記錄美術類專業學校的錄取條件信息院校報考相關問題問答對⽤來記錄院校報考常⾒問題我⽂化課500分聯考260分可以上什麽學校我⽂化課400分聯考180分可以上什麽學校北京交通⼤學的學費是多少？北京交通⼤學2023年招多少⼈你是誰？清華⼤學學校怎麽樣清華⼤學地理位置清華⼤學的學科情況清華⼤學的學科評級清華⼤學的地理位置清華⼤學的交通情況怎麽樣清華⼤學的美術類專業所在院系清華⼤學美術類專業所在學院美術學校專業⾸都師範⼤學的專業名稱⾸都師範⼤學的招⽣⼈數⾸都師範⼤學的錄取原則⾸都師範⼤學的錄取最低分⾸都師範⼤學的錄取前提你是誰？我⼀點繪畫基礎都沒有，甚⾄都談不上愛好，可以學嗎？提前告知您：AI返回結果無法保證百分百命中，會存在部分信息無法檢索到的情況，偶爾存在回答錯誤的情況，這塊是現狀希望您能理解。（隨著模型升級來改善）⽽且有些問題可能換個問題，⼤模型才能返回。中國⼈⺠⼤學的美術類專業所在院系（查不到）提前告知您：AI返回結果無法保證百分百命中，會存在部分信息無法檢索到的情況，偶爾存在回答錯誤的情況，這塊是現狀希望您能理解。（隨著模型升級來改善）⽽且有些問題可能換個問題，⼤模型才能返回。增加補充信息', 'coord': {'box': [[90, 105, 236, 11], [90, 121, 414, 11], [90, 137, 219, 11], [90, 168, 146, 11], [90, 183, 188, 11], [90, 215, 114, 11], [90, 230, 125, 11], [90, 277, 221, 11], [90, 293, 221, 11], [90, 308, 135, 11], [90, 324, 142, 11], [90, 339, 41, 11], [90, 355, 93, 11], [90, 371, 83, 11], [90, 386, 93, 11], [90, 402, 93, 11], [90, 417, 93, 11], [90, 433, 125, 11], [90, 449, 146, 11], [90, 464, 135, 11], [90, 511, 62, 11], [90, 527, 114, 11], [90, 542, 114, 11], [90, 558, 114, 11], [90, 573, 125, 11], [90, 589, 114, 11], [90, 605, 41, 11], [90, 620, 261, 11], [90, 667, 414, 27], [90, 698, 219, 11], [90, 745, 219, 11], [90, 105, 414, 43]], 'page_num': [0, 0, 0, 0, 0, 0, 0, 0, 0, 0, 0, 0, 0, 0, 0, 0, 0, 0, 0, 0, 0, 0, 0, 0, 0, 0, 0, 0, 0, 0, 0, 1]}, 'node_id': 0}, {'text': '（隨著模型升級來改善）⽽且有些問題可能換個問題，⼤模型才能返回。增加補充信息', 'coord': {'box': [[90, 199, 62, 11]], 'page_num': [1]}, 'node_id': 1}]}\n"
     ]
    }
   ],
   "source": [
    "\n",
    "from appbuilder.core.components.doc_parser.doc_parser import DocParser\n",
    "from appbuilder.core.components.doc_splitter.doc_splitter import DocSplitter\n",
    "from appbuilder.core.message import Message\n",
    "\n",
    "\n",
    "# 先解析\n",
    "msg = Message(\"./assets/美術學校信息概覽.pdf\")\n",
    "parser = DocParser()\n",
    "parse_result = parser(msg, return_raw=True)\n",
    "\n",
    "# 基于parser的结果切分段落\n",
    "splitter = DocSplitter(splitter_type=\"split_by_chunk\")\n",
    "res_paras = splitter(parse_result)\n",
    "\n",
    "# 打印结果\n",
    "print(res_paras.content)"
   ]
  },
  {
   "cell_type": "markdown",
   "id": "05c49349-eab6-4cd1-a53d-d6546f500459",
   "metadata": {},
   "source": [
    "# 语义向量计算"
   ]
  },
  {
   "cell_type": "code",
   "execution_count": 30,
   "id": "48d95926-a651-4c20-b78e-a780d5d619d5",
   "metadata": {},
   "outputs": [
    {
     "name": "stdout",
     "output_type": "stream",
     "text": [
      "[0.07525119930505753, -0.004092334304004908, -0.09787149727344513, 0.11082612723112106, -0.04173075035214424, -0.16720770299434662, 0.024419160559773445, -0.002485802862793207, -0.0037696538493037224, -0.02845524065196514, 0.030925799161195755, -0.09041810035705566, 0.06955387443304062, 0.018209464848041534, -0.05909314006567001, 0.02027585729956627, 0.003003037767484784, 0.012591114267706871, -0.006902048364281654, -0.047861479222774506, 0.024443525820970535, -0.03236031532287598, 0.00838809460401535, -0.06803852319717407, 0.019489383324980736, -0.009500177577137947, 0.04401412606239319, 0.0628257766366005, 0.02632935531437397, 0.03490303084254265, -0.0025097448378801346, 0.0834011510014534, 0.0682816281914711, -0.09611975401639938, -0.008150999434292316, 0.06630562245845795, -0.030675629153847694, -0.0014982413267716765, -0.018755266442894936, 0.08918138593435287, 0.01423665601760149, -0.008598539046943188, 0.021562522277235985, -0.021839646622538567, 0.08409075438976288, -0.12548762559890747, -0.05389067903161049, -0.011893142946064472, -0.059235405176877975, 0.024532752111554146, 0.0014504409627988935, 0.03537739813327789, 0.09902220964431763, 0.05117327719926834, -0.02559787407517433, -0.0037734918296337128, -0.09336739033460617, -0.016194365918636322, 0.07371257245540619, -0.03250640630722046, -0.05047586187720299, 0.026138052344322205, 0.09751713275909424, -0.0703616812825203, 0.10009898245334625, 0.03032093122601509, -0.04827378690242767, 0.04208551347255707, 0.044170744717121124, 0.009227716363966465, 0.015895215794444084, -0.0994880199432373, 0.025530802085995674, 0.018615253269672394, -0.009583845734596252, 0.09000296890735626, -0.031193863600492477, 0.018719391897320747, 0.04126211255788803, -0.05206228792667389, 0.071842722594738, -0.001968703931197524, 0.04823414981365204, 0.01904846355319023, -0.12106794118881226, -0.06194320693612099, 0.09159725904464722, -0.01001811120659113, -0.016417400911450386, -0.03395616263151169, 0.03879419341683388, -0.07404021918773651, 0.10662709921598434, -0.0380994975566864, -0.10000940412282944, -0.054197702556848526, -0.047723930329084396, 0.036720819771289825, 0.008087264373898506, -0.1235462948679924, 0.0038869616109877825, 0.08145201206207275, 0.0028178058564662933, -0.017979001626372337, 0.08694016188383102, -0.04515593498945236, -0.0701909139752388, -0.06210578978061676, 0.026017922908067703, 0.021133488044142723, -0.07423371076583862, 0.05433697998523712, -0.0638481006026268, 0.01480219978839159, 0.0144004812464118, 0.023790841922163963, 0.028888113796710968, 0.006283414084464312, -0.0016265623271465302, 0.02353757992386818, -0.04774856194853783, 0.03580581769347191, -0.03377683833241463, 0.07816576212644577, -0.08361741900444031, 0.05715646594762802, -0.11810745298862457, -0.027162445709109306, 0.05055804178118706, 0.05745496600866318, 0.09813162684440613, 0.0653780922293663, -0.06168782338500023, 0.04418802261352539, 0.026286423206329346, 0.060760244727134705, -0.022554902359843254, -0.050790414214134216, -0.04965148866176605, 0.03990819677710533, -0.05520417168736458, 0.07082781940698624, 0.04709327220916748, -0.003440632252022624, -0.052626948803663254, 0.02653425559401512, 0.02755923755466938, -0.01999683491885662, -0.04436055198311806, -0.03143391013145447, -0.07469913363456726, 0.0656677782535553, -0.0061212824657559395, -0.038179486989974976, -0.056061647832393646, 0.004007112234830856, 0.12495642155408859, -0.1154366284608841, -0.043746720999479294, 0.027009980753064156, 0.02453354187309742, -0.010047193616628647, 0.07167597115039825, -0.0530565045773983, 0.03881726786494255, 0.0014929050812497735, -0.02617090754210949, 0.03602025285363197, 0.0522957518696785, 0.031083250418305397, -0.07067707180976868, 0.06932282447814941, 0.02311507612466812, -0.07476211339235306, 0.031241243705153465, 0.016429012641310692, 0.03498314693570137, 0.062443412840366364, 0.018199721351265907, 0.01396138221025467, -0.07058964669704437, -0.05255262926220894, 0.043961867690086365, -0.09541552513837814, 0.04730258882045746, -0.01065222267061472, -0.03735216706991196, 0.07736842334270477, 0.00931743998080492, -0.07590344548225403, 0.0007609535241499543, 0.047487515956163406, -0.05958043411374092, -0.030491726472973824, 0.01559826172888279, -0.014285990037024021, -0.028554288670420647, -0.04648883640766144, -0.06328968703746796, 0.02668238990008831, -0.007651575841009617, 0.004357865080237389, -0.04059358313679695, -0.05414919927716255, 0.024910759180784225, -0.026304328814148903, -0.08758652210235596, 0.018998539075255394, -0.019940312951803207, 0.024877935647964478, 0.0077813793905079365, 0.046890005469322205, 0.016708672046661377, -0.08664848655462265, 0.013498691841959953, 0.10151375085115433, 0.031214432790875435, -0.05340966582298279, 0.16765153408050537, 0.03170409053564072, -0.05231177434325218, 0.018935346975922585, 0.1156819686293602, -0.05634161829948425, 0.07708562165498734, 0.03654142841696739, 0.030408931896090508, -0.04451153799891472, 0.003158763749524951, -0.07555563747882843, -0.04715980216860771, -0.03759261220693588, 0.034808121621608734, 0.09800351411104202, -0.02503388375043869, -0.0206447746604681, -0.08072938024997711, -0.06279940158128738, 0.06857557594776154, -0.04263129457831383, 0.010447616688907146, -0.03258593752980232, -0.05608850345015526, -0.040705952793359756, 0.03133692964911461, 0.014285742305219173, 0.07915890961885452, 0.08919059485197067, -0.03615230321884155, 0.041574008762836456, -0.05516636744141579, -0.021390274167060852, 0.012843108735978603, 0.04506278410553932, -0.020659325644373894, -0.0873367115855217, 0, 0, -0.0009403860894963145, 0, 0, 0, 0, 0, 0, 0, 0, 0, 0, 0, 0, 0, 0, 0, 0, 0, 0, 0, 0, 0, 0, 0, 0, 0, 0, 0, 0, 0, 0, 0, 0, 0, 0, 0, 0, 0, 0, 0, 0, 0, 0, 0, 0, 0, 0, 0, 0, 0, 0, 0, 0, 0, 0, 0, 0, 0, 0, 0, 0, 0, 0, 0, 0, 0, 0, 0, 0, 0, 0, 0, 0, 0, 0, 0, 0, 0, 0, 0, 0, 0, 0, 0, 0, 0, 0, 0, 0, 0, 0, 0, 0, 0, 0, 0, 0.3550657033920288, 0, 0, 0, 0, 0, 0, 0, 0, 0, 0, 0, 0, 0, 0, 0, 0, 0, -0.3093072175979614, 0, 0, 0, 0, 0, 0, 0, 0, 0, 0, 0]\n"
     ]
    }
   ],
   "source": [
    "\n",
    "import appbuilder\n",
    "from appbuilder import Message\n",
    "# 请先确保您设置了密钥\n",
    "embedding = appbuilder.Embedding()\n",
    "\n",
    "out = embedding(\"hello world!\")\n",
    "# 得到一个长度为384的float数组\n",
    "print(out.content)"
   ]
  },
  {
   "cell_type": "markdown",
   "id": "e4b7d59b-59b0-4e07-8b6f-eea7a535231a",
   "metadata": {},
   "source": [
    "# 表格抽取"
   ]
  },
  {
   "cell_type": "code",
   "execution_count": 33,
   "id": "302b9434-1b40-423e-835f-2e79231058e2",
   "metadata": {},
   "outputs": [
    {
     "name": "stdout",
     "output_type": "stream",
     "text": [
      "[2023-12-28 14:11:49,123.123] <ipython-input-33-e78f9efe162c> [line:16] INFO [main-13374455963616400129] Tables: [[{\"para\": \"| performance_user_id | 平均出货业绩 |\\n|--------|--------|\\n| 216672 | 1300 |\\n| 366563 | 650 |\\n| 463466 | 1950 |\\n| 626188 | 1300 |\\n| 664902 | 650 |\\n| 709803 | 1300 |\\n| 788897 | 1950 |\\n| 832211 | 3900 |\\n| 873889 | 1950 |\\n| 894344 | 1950 |\\n\"}]]\n"
     ]
    }
   ],
   "source": [
    "\n",
    "import json\n",
    "from appbuilder.utils.logger_util import logger\n",
    "from appbuilder import Message, ExtractTableFromDoc, DocParser\n",
    "\n",
    "\n",
    "# 测试文档解析器使用默认配置，xxx为待解析的文档路径。\n",
    "msg = Message(\"./assets/performance.docx\")\n",
    "parser = DocParser()\n",
    "# ExtractTableFromDoc输入为文档原始解析结果，此处需要带上原始结果，return_raw=True.\n",
    "doc = parser(msg, return_raw=True).content.raw\n",
    "\n",
    "# 抽取文档中的表格\n",
    "parser = ExtractTableFromDoc()\n",
    "result = parser.run(Message(doc))\n",
    "\n",
    "logger.info(\"Tables: {}\".format(\n",
    "    json.dumps(result.content, ensure_ascii=False))\n",
    ")"
   ]
  },
  {
   "cell_type": "markdown",
   "id": "3609814a-a5f2-43fe-8dd2-fa43dce572ef",
   "metadata": {},
   "source": [
    "# 通用文字识别（高精度）"
   ]
  },
  {
   "cell_type": "code",
   "execution_count": 49,
   "id": "7fb1b251-be99-4ed3-96d6-74633615a9e6",
   "metadata": {},
   "outputs": [
    {
     "ename": "AppBuilderServerException",
     "evalue": "request_id=, code=, message=, service_err_code=14, service_err_message=IAM Certification failed ",
     "output_type": "error",
     "traceback": [
      "\u001b[0;31m---------------------------------------------------------------------------\u001b[0m",
      "\u001b[0;31mAppBuilderServerException\u001b[0m                 Traceback (most recent call last)",
      "Cell \u001b[0;32mIn[49], line 7\u001b[0m\n\u001b[1;32m      5\u001b[0m \u001b[38;5;28;01mwith\u001b[39;00m \u001b[38;5;28mopen\u001b[39m(\u001b[38;5;124m\"\u001b[39m\u001b[38;5;124m./assets/ocr.png\u001b[39m\u001b[38;5;124m\"\u001b[39m, \u001b[38;5;124m\"\u001b[39m\u001b[38;5;124mrb\u001b[39m\u001b[38;5;124m\"\u001b[39m) \u001b[38;5;28;01mas\u001b[39;00m f:\n\u001b[1;32m      6\u001b[0m     general_ocr \u001b[38;5;241m=\u001b[39m appbuilder\u001b[38;5;241m.\u001b[39mGeneralOCR()\n\u001b[0;32m----> 7\u001b[0m     out \u001b[38;5;241m=\u001b[39m \u001b[43mgeneral_ocr\u001b[49m\u001b[38;5;241;43m.\u001b[39;49m\u001b[43mrun\u001b[49m\u001b[43m(\u001b[49m\u001b[43mappbuilder\u001b[49m\u001b[38;5;241;43m.\u001b[39;49m\u001b[43mMessage\u001b[49m\u001b[43m(\u001b[49m\u001b[43mcontent\u001b[49m\u001b[38;5;241;43m=\u001b[39;49m\u001b[43m{\u001b[49m\u001b[38;5;124;43m\"\u001b[39;49m\u001b[38;5;124;43mraw_image\u001b[39;49m\u001b[38;5;124;43m\"\u001b[39;49m\u001b[43m:\u001b[49m\u001b[43m \u001b[49m\u001b[43mf\u001b[49m\u001b[38;5;241;43m.\u001b[39;49m\u001b[43mread\u001b[49m\u001b[43m(\u001b[49m\u001b[43m)\u001b[49m\u001b[43m}\u001b[49m\u001b[43m)\u001b[49m\u001b[43m)\u001b[49m\n\u001b[1;32m      8\u001b[0m \u001b[38;5;28mprint\u001b[39m(out\u001b[38;5;241m.\u001b[39mcontent)\n",
      "File \u001b[0;32m~/miniconda3/envs/appbuilder_test/lib/python3.8/site-packages/appbuilder/core/components/general_ocr/component.py:63\u001b[0m, in \u001b[0;36mGeneralOCR.run\u001b[0;34m(self, message, timeout, retry)\u001b[0m\n\u001b[1;32m     61\u001b[0m \u001b[38;5;28;01mif\u001b[39;00m inp\u001b[38;5;241m.\u001b[39murl:\n\u001b[1;32m     62\u001b[0m     request\u001b[38;5;241m.\u001b[39murl \u001b[38;5;241m=\u001b[39m inp\u001b[38;5;241m.\u001b[39murl\n\u001b[0;32m---> 63\u001b[0m result \u001b[38;5;241m=\u001b[39m \u001b[38;5;28;43mself\u001b[39;49m\u001b[38;5;241;43m.\u001b[39;49m\u001b[43m_recognize\u001b[49m\u001b[43m(\u001b[49m\u001b[43mrequest\u001b[49m\u001b[43m,\u001b[49m\u001b[43m \u001b[49m\u001b[43mtimeout\u001b[49m\u001b[43m,\u001b[49m\u001b[43m \u001b[49m\u001b[43mretry\u001b[49m\u001b[43m)\u001b[49m\n\u001b[1;32m     64\u001b[0m result_dict \u001b[38;5;241m=\u001b[39m proto\u001b[38;5;241m.\u001b[39mMessage\u001b[38;5;241m.\u001b[39mto_dict(result)\n\u001b[1;32m     65\u001b[0m out \u001b[38;5;241m=\u001b[39m GeneralOCROutMsg(\u001b[38;5;241m*\u001b[39m\u001b[38;5;241m*\u001b[39mresult_dict)\n",
      "File \u001b[0;32m~/miniconda3/envs/appbuilder_test/lib/python3.8/site-packages/appbuilder/core/components/general_ocr/component.py:89\u001b[0m, in \u001b[0;36mGeneralOCR._recognize\u001b[0;34m(self, request, timeout, retry)\u001b[0m\n\u001b[1;32m     87\u001b[0m data \u001b[38;5;241m=\u001b[39m response\u001b[38;5;241m.\u001b[39mjson()\n\u001b[1;32m     88\u001b[0m \u001b[38;5;28msuper\u001b[39m()\u001b[38;5;241m.\u001b[39mcheck_response_json(data)\n\u001b[0;32m---> 89\u001b[0m \u001b[38;5;28;43mself\u001b[39;49m\u001b[38;5;241;43m.\u001b[39;49m\u001b[38;5;18;43m__class__\u001b[39;49m\u001b[38;5;241;43m.\u001b[39;49m\u001b[43m_check_service_error\u001b[49m\u001b[43m(\u001b[49m\u001b[43mdata\u001b[49m\u001b[43m)\u001b[49m\n\u001b[1;32m     90\u001b[0m request_id \u001b[38;5;241m=\u001b[39m \u001b[38;5;28mself\u001b[39m\u001b[38;5;241m.\u001b[39mresponse_request_id(response)\n\u001b[1;32m     91\u001b[0m ocr_response \u001b[38;5;241m=\u001b[39m GeneralOCRResponse\u001b[38;5;241m.\u001b[39mfrom_json(payload\u001b[38;5;241m=\u001b[39mjson\u001b[38;5;241m.\u001b[39mdumps(data))\n",
      "File \u001b[0;32m~/miniconda3/envs/appbuilder_test/lib/python3.8/site-packages/appbuilder/core/components/general_ocr/component.py:104\u001b[0m, in \u001b[0;36mGeneralOCR._check_service_error\u001b[0;34m(data)\u001b[0m\n\u001b[1;32m     97\u001b[0m \u001b[38;5;250m\u001b[39m\u001b[38;5;124mr\u001b[39m\u001b[38;5;124;03m\"\"\"个性化服务response参数检查\u001b[39;00m\n\u001b[1;32m     98\u001b[0m \u001b[38;5;124;03m    参数:\u001b[39;00m\n\u001b[1;32m     99\u001b[0m \u001b[38;5;124;03m        request (dict) : 通用文字识别body返回\u001b[39;00m\n\u001b[1;32m    100\u001b[0m \u001b[38;5;124;03m    返回：\u001b[39;00m\n\u001b[1;32m    101\u001b[0m \u001b[38;5;124;03m        无\u001b[39;00m\n\u001b[1;32m    102\u001b[0m \u001b[38;5;124;03m\"\"\"\u001b[39;00m\n\u001b[1;32m    103\u001b[0m \u001b[38;5;28;01mif\u001b[39;00m \u001b[38;5;124m\"\u001b[39m\u001b[38;5;124merror_code\u001b[39m\u001b[38;5;124m\"\u001b[39m \u001b[38;5;129;01min\u001b[39;00m data \u001b[38;5;129;01mor\u001b[39;00m \u001b[38;5;124m\"\u001b[39m\u001b[38;5;124merror_msg\u001b[39m\u001b[38;5;124m\"\u001b[39m \u001b[38;5;129;01min\u001b[39;00m data:\n\u001b[0;32m--> 104\u001b[0m     \u001b[38;5;28;01mraise\u001b[39;00m AppBuilderServerException(service_err_code\u001b[38;5;241m=\u001b[39mdata\u001b[38;5;241m.\u001b[39mget(\u001b[38;5;124m\"\u001b[39m\u001b[38;5;124merror_code\u001b[39m\u001b[38;5;124m\"\u001b[39m),\n\u001b[1;32m    105\u001b[0m                                     service_err_message\u001b[38;5;241m=\u001b[39mdata\u001b[38;5;241m.\u001b[39mget(\u001b[38;5;124m\"\u001b[39m\u001b[38;5;124merror_msg\u001b[39m\u001b[38;5;124m\"\u001b[39m))\n",
      "\u001b[0;31mAppBuilderServerException\u001b[0m: request_id=, code=, message=, service_err_code=14, service_err_message=IAM Certification failed "
     ]
    }
   ],
   "source": [
    "import appbuilder\n",
    "import os\n",
    "os.environ[\"APPBUILDER_TOKEN\"] = \"bce-v3/ALTAK-m1UlYXUuQlDzTVinjs8qt/2bba5b80bd31c7314960446caf7e11e6e4581101\"\n",
    "\n",
    "with open(\"./assets/ocr.png\", \"rb\") as f:\n",
    "    general_ocr = appbuilder.GeneralOCR()\n",
    "    out = general_ocr.run(appbuilder.Message(content={\"raw_image\": f.read()}))\n",
    "print(out.content)"
   ]
  },
  {
   "cell_type": "markdown",
   "id": "e40d2f26-5c4b-4cad-a107-d06b1e7c93fd",
   "metadata": {},
   "source": [
    "# 复杂Query判定（IsComplexQuery）"
   ]
  },
  {
   "cell_type": "code",
   "execution_count": 43,
   "id": "a3c1c301-5bc5-4551-ac67-ab4a929d1e48",
   "metadata": {},
   "outputs": [
    {
     "name": "stdout",
     "output_type": "stream",
     "text": [
      "Answer: 分析：这个问题需要从多个角度来考虑。首先，需要理解吸塑包装盒的概念和定义。其次，需要知道工业化生产和物流运输中常见的包装方式。最后，还需要分析吸塑包装盒在这两种情况下的重要性。这需要深入的知识和理解，包括吸塑包装盒的特点、工业化生产的要求、物流运输的特性等。因此，这是一个复杂问题，需要拆解为多个简单问题来回答。\n",
      "类型：复杂问题\n"
     ]
    }
   ],
   "source": [
    "\n",
    "import appbuilder\n",
    "is_complex_query = appbuilder.IsComplexQuery(model=\"eb-turbo-appbuilder\")\n",
    "\n",
    "msg = \"吸塑包装盒在工业化生产和物流运输中分别有什么重要性？\"\n",
    "msg = appbuilder.Message(msg)\n",
    "answer = is_complex_query(msg)\n",
    "\n",
    "print(\"Answer: {}\".format(answer.content))"
   ]
  },
  {
   "cell_type": "markdown",
   "id": "b9c185f9-1310-4e94-b954-22e7f86bce25",
   "metadata": {},
   "source": [
    "# 地标识别（LandmarkRecognition）"
   ]
  },
  {
   "cell_type": "code",
   "execution_count": 52,
   "id": "7609a6ad-5402-4f8b-a132-75176187269f",
   "metadata": {},
   "outputs": [
    {
     "ename": "AppBuilderServerException",
     "evalue": "request_id=, code=, message=, service_err_code=14, service_err_message=IAM Certification failed ",
     "output_type": "error",
     "traceback": [
      "\u001b[0;31m---------------------------------------------------------------------------\u001b[0m",
      "\u001b[0;31mAppBuilderServerException\u001b[0m                 Traceback (most recent call last)",
      "Cell \u001b[0;32mIn[52], line 10\u001b[0m\n\u001b[1;32m      8\u001b[0m \u001b[38;5;66;03m# 进行地标识别\u001b[39;00m\n\u001b[1;32m      9\u001b[0m landmark_recognize \u001b[38;5;241m=\u001b[39m appbuilder\u001b[38;5;241m.\u001b[39mLandmarkRecognition()\n\u001b[0;32m---> 10\u001b[0m out \u001b[38;5;241m=\u001b[39m \u001b[43mlandmark_recognize\u001b[49m\u001b[38;5;241;43m.\u001b[39;49m\u001b[43mrun\u001b[49m\u001b[43m(\u001b[49m\u001b[43minp\u001b[49m\u001b[43m)\u001b[49m\n\u001b[1;32m     11\u001b[0m \u001b[38;5;66;03m# 打印识别结果\u001b[39;00m\n\u001b[1;32m     12\u001b[0m \u001b[38;5;28mprint\u001b[39m(out\u001b[38;5;241m.\u001b[39mcontent) \u001b[38;5;66;03m# for example: {\"landmark\": \"狮身人面相\"}\u001b[39;00m\n",
      "File \u001b[0;32m~/miniconda3/envs/appbuilder_test/lib/python3.8/site-packages/appbuilder/core/components/landmark_recognize/component.py:61\u001b[0m, in \u001b[0;36mLandmarkRecognition.run\u001b[0;34m(self, message, timeout, retry)\u001b[0m\n\u001b[1;32m     59\u001b[0m \u001b[38;5;28;01mif\u001b[39;00m inp\u001b[38;5;241m.\u001b[39murl:\n\u001b[1;32m     60\u001b[0m     request\u001b[38;5;241m.\u001b[39murl \u001b[38;5;241m=\u001b[39m inp\u001b[38;5;241m.\u001b[39murl\n\u001b[0;32m---> 61\u001b[0m response \u001b[38;5;241m=\u001b[39m \u001b[38;5;28;43mself\u001b[39;49m\u001b[38;5;241;43m.\u001b[39;49m\u001b[43m__recognize\u001b[49m\u001b[43m(\u001b[49m\u001b[43mrequest\u001b[49m\u001b[43m,\u001b[49m\u001b[43m \u001b[49m\u001b[43mtimeout\u001b[49m\u001b[43m,\u001b[49m\u001b[43m \u001b[49m\u001b[43mretry\u001b[49m\u001b[43m)\u001b[49m\n\u001b[1;32m     62\u001b[0m out \u001b[38;5;241m=\u001b[39m LandmarkRecognitionOutMsg(landmark\u001b[38;5;241m=\u001b[39mresponse\u001b[38;5;241m.\u001b[39mresult\u001b[38;5;241m.\u001b[39mget(\u001b[38;5;124m\"\u001b[39m\u001b[38;5;124mlandmark\u001b[39m\u001b[38;5;124m\"\u001b[39m, \u001b[38;5;124m\"\u001b[39m\u001b[38;5;124m\"\u001b[39m))\n\u001b[1;32m     63\u001b[0m \u001b[38;5;28;01mreturn\u001b[39;00m Message(content\u001b[38;5;241m=\u001b[39m\u001b[38;5;28mdict\u001b[39m(out))\n",
      "File \u001b[0;32m~/miniconda3/envs/appbuilder_test/lib/python3.8/site-packages/appbuilder/core/components/landmark_recognize/component.py:88\u001b[0m, in \u001b[0;36mLandmarkRecognition.__recognize\u001b[0;34m(self, request, timeout, retry)\u001b[0m\n\u001b[1;32m     86\u001b[0m data \u001b[38;5;241m=\u001b[39m response\u001b[38;5;241m.\u001b[39mjson()\n\u001b[1;32m     87\u001b[0m \u001b[38;5;28msuper\u001b[39m()\u001b[38;5;241m.\u001b[39mcheck_response_json(data)\n\u001b[0;32m---> 88\u001b[0m \u001b[38;5;28;43mself\u001b[39;49m\u001b[38;5;241;43m.\u001b[39;49m\u001b[38;5;18;43m__class__\u001b[39;49m\u001b[38;5;241;43m.\u001b[39;49m\u001b[43m__check_service_error\u001b[49m\u001b[43m(\u001b[49m\u001b[43mdata\u001b[49m\u001b[43m)\u001b[49m\n\u001b[1;32m     89\u001b[0m \u001b[38;5;28;01mreturn\u001b[39;00m LandmarkRecognitionResponse(data, request_id\u001b[38;5;241m=\u001b[39m\u001b[38;5;28mself\u001b[39m\u001b[38;5;241m.\u001b[39mresponse_request_id(response))\n",
      "File \u001b[0;32m~/miniconda3/envs/appbuilder_test/lib/python3.8/site-packages/appbuilder/core/components/landmark_recognize/component.py:102\u001b[0m, in \u001b[0;36mLandmarkRecognition.__check_service_error\u001b[0;34m(data)\u001b[0m\n\u001b[1;32m     93\u001b[0m \u001b[38;5;250m\u001b[39m\u001b[38;5;124mr\u001b[39m\u001b[38;5;124;03m\"\"\"个性化服务response参数检查\u001b[39;00m\n\u001b[1;32m     94\u001b[0m \n\u001b[1;32m     95\u001b[0m \u001b[38;5;124;03m    参数:\u001b[39;00m\n\u001b[0;32m   (...)\u001b[0m\n\u001b[1;32m     98\u001b[0m \u001b[38;5;124;03m        无\u001b[39;00m\n\u001b[1;32m     99\u001b[0m \u001b[38;5;124;03m\"\"\"\u001b[39;00m\n\u001b[1;32m    101\u001b[0m \u001b[38;5;28;01mif\u001b[39;00m \u001b[38;5;124m\"\u001b[39m\u001b[38;5;124merror_code\u001b[39m\u001b[38;5;124m\"\u001b[39m \u001b[38;5;129;01min\u001b[39;00m data \u001b[38;5;129;01mor\u001b[39;00m \u001b[38;5;124m\"\u001b[39m\u001b[38;5;124merror_msg\u001b[39m\u001b[38;5;124m\"\u001b[39m \u001b[38;5;129;01min\u001b[39;00m data:\n\u001b[0;32m--> 102\u001b[0m     \u001b[38;5;28;01mraise\u001b[39;00m AppBuilderServerException(service_err_code\u001b[38;5;241m=\u001b[39mdata\u001b[38;5;241m.\u001b[39mget(\u001b[38;5;124m\"\u001b[39m\u001b[38;5;124merror_code\u001b[39m\u001b[38;5;124m\"\u001b[39m),\n\u001b[1;32m    103\u001b[0m                                     service_err_message\u001b[38;5;241m=\u001b[39mdata\u001b[38;5;241m.\u001b[39mget(\u001b[38;5;124m\"\u001b[39m\u001b[38;5;124merror_msg\u001b[39m\u001b[38;5;124m\"\u001b[39m))\n",
      "\u001b[0;31mAppBuilderServerException\u001b[0m: request_id=, code=, message=, service_err_code=14, service_err_message=IAM Certification failed "
     ]
    }
   ],
   "source": [
    "import appbuilder\n",
    "import os\n",
    "# os.environ[\"APPBUILDER_TOKEN\"] = \"bce-v3/ALTAK-m1UlYXUuQlDzTVinjs8qt/2bba5b80bd31c7314960446caf7e11e6e4581101\"\n",
    "# 使用with语句以读取文件方式打开文件，并获取文件字节流\n",
    "with open(\"./assets/shishen.jpeg\", \"rb\") as f:\n",
    "    # 输入参数为一张图片\n",
    "    inp = appbuilder.Message(content={\"raw_image\": f.read()})\n",
    "    # 进行地标识别\n",
    "    landmark_recognize = appbuilder.LandmarkRecognition()\n",
    "    out = landmark_recognize.run(inp)\n",
    "    # 打印识别结果\n",
    "    print(out.content) # for example: {\"landmark\": \"狮身人面相\"}"
   ]
  },
  {
   "cell_type": "markdown",
   "id": "fae84032-ccba-44ce-a644-da3f78eeed40",
   "metadata": {},
   "source": [
    "# 语义匹配"
   ]
  },
  {
   "cell_type": "code",
   "execution_count": 54,
   "id": "8c51aa22-7c52-49b6-b798-8cf12fe5877a",
   "metadata": {},
   "outputs": [
    {
     "name": "stdout",
     "output_type": "stream",
     "text": [
      "['你好', '世界']\n"
     ]
    }
   ],
   "source": [
    "\n",
    "import appbuilder\n",
    "\n",
    "# 初始化所需要的组件\n",
    "embedding = appbuilder.Embedding()\n",
    "matching = appbuilder.Matching(embedding)\n",
    "\n",
    "# 定义query和文本列表\n",
    "query = appbuilder.Message(\"你好\")\n",
    "contexts = appbuilder.Message([\"世界\", \"你好\"])\n",
    "\n",
    "contexts_matched = matching(query, contexts)\n",
    "print(contexts_matched.content)"
   ]
  },
  {
   "cell_type": "markdown",
   "id": "9ef8300c-f8ee-4a40-8b5a-15989cd11490",
   "metadata": {},
   "source": [
    "# 自然语言转pandas (nl2pandas)"
   ]
  },
  {
   "cell_type": "code",
   "execution_count": 55,
   "id": "caa70df2-7b65-4b33-a0a5-5c8667f7a435",
   "metadata": {},
   "outputs": [
    {
     "name": "stdout",
     "output_type": "stream",
     "text": [
      "Message(name=msg, content=思考：用户想要知道海淀区有哪些学校，可以通过查询表格中的\"所属地区\"列，找出海淀区的学校名称。\n",
      "\n",
      "代码：df.loc[df['所属地区'] == '海淀区', '学校名'], mtype=dict)\n"
     ]
    }
   ],
   "source": [
    "\n",
    "import appbuilder\n",
    "\n",
    "#定义表格信息 假设有一个小学学校表格，包含学校名、所属地区、创办时间、类别、学生人数、教职工人数、教学班数量等列。列名后给出示例（例如清华附小是学校名的示例），以及列值类型（字符串类型、数字值类型），最后给出列名的解释。列之间使用换行符分隔。\n",
    "table_info = '''表格列信息如下：\n",
    "学校名 : 清华附小 , 字符串类型，代表小学学校的名称\n",
    "所属地区 : 西城区 , 字符串类型，表示该小学学校所在的位置\n",
    "创办时间 : 1998 , 数字值类型，表示该小学学校的创办时间\n",
    "类别 : 公立小学 , 字符串类型，表示该小学学校所在的类别\n",
    "学生人数 : 2000 , 数字值类型，表示该小学学校的学生数量\n",
    "教职工人数 : 140 , 数字值类型，表示该小学学校的教职工数量\n",
    "教学班数量 : 122 , 数字值类型，表示该小学学校的教学班数量'''\n",
    "\n",
    "#定义查询问题\n",
    "query = \"海淀区有哪些学校\"\n",
    "query = appbuilder.Message(query)\n",
    "\n",
    "#定义并运行Nl2pandas实例，得到结果\n",
    "nl2pandas = appbuilder.Nl2pandasComponent(model=\"eb-turbo-appbuilder\")\n",
    "answer = nl2pandas(query, table_info = table_info)\n",
    "print(answer)"
   ]
  },
  {
   "cell_type": "markdown",
   "id": "c31a3466-cace-4112-8408-bd93265198e3",
   "metadata": {},
   "source": [
    "# 通用物体和场景识别-高级版（ObjectRecognition）"
   ]
  },
  {
   "cell_type": "code",
   "execution_count": 61,
   "id": "0fdfe7cc-1215-47fb-998e-a3359189bb93",
   "metadata": {},
   "outputs": [
    {
     "ename": "AppBuilderServerException",
     "evalue": "request_id=, code=, message=, service_err_code=14, service_err_message=IAM Certification failed ",
     "output_type": "error",
     "traceback": [
      "\u001b[0;31m---------------------------------------------------------------------------\u001b[0m",
      "\u001b[0;31mAppBuilderServerException\u001b[0m                 Traceback (most recent call last)",
      "Cell \u001b[0;32mIn[61], line 8\u001b[0m\n\u001b[1;32m      6\u001b[0m object_recognition \u001b[38;5;241m=\u001b[39m appbuilder\u001b[38;5;241m.\u001b[39mObjectRecognition()\n\u001b[1;32m      7\u001b[0m \u001b[38;5;66;03m# 执行识别操作并获取结果\u001b[39;00m\n\u001b[0;32m----> 8\u001b[0m out \u001b[38;5;241m=\u001b[39m \u001b[43mobject_recognition\u001b[49m\u001b[38;5;241;43m.\u001b[39;49m\u001b[43mrun\u001b[49m\u001b[43m(\u001b[49m\u001b[43mappbuilder\u001b[49m\u001b[38;5;241;43m.\u001b[39;49m\u001b[43mMessage\u001b[49m\u001b[43m(\u001b[49m\u001b[43mcontent\u001b[49m\u001b[38;5;241;43m=\u001b[39;49m\u001b[43m{\u001b[49m\u001b[38;5;124;43m\"\u001b[39;49m\u001b[38;5;124;43mraw_image\u001b[39;49m\u001b[38;5;124;43m\"\u001b[39;49m\u001b[43m:\u001b[49m\u001b[43m \u001b[49m\u001b[43mf\u001b[49m\u001b[38;5;241;43m.\u001b[39;49m\u001b[43mread\u001b[49m\u001b[43m(\u001b[49m\u001b[43m)\u001b[49m\u001b[43m}\u001b[49m\u001b[43m)\u001b[49m\u001b[43m)\u001b[49m\n\u001b[1;32m      9\u001b[0m \u001b[38;5;28mprint\u001b[39m(out\u001b[38;5;241m.\u001b[39mcontent)\n",
      "File \u001b[0;32m~/miniconda3/envs/appbuilder_test/lib/python3.8/site-packages/appbuilder/core/components/object_recognize/component.py:63\u001b[0m, in \u001b[0;36mObjectRecognition.run\u001b[0;34m(self, message, timeout, retry)\u001b[0m\n\u001b[1;32m     61\u001b[0m \u001b[38;5;28;01mif\u001b[39;00m inp\u001b[38;5;241m.\u001b[39murl:\n\u001b[1;32m     62\u001b[0m     req\u001b[38;5;241m.\u001b[39murl \u001b[38;5;241m=\u001b[39m inp\u001b[38;5;241m.\u001b[39murl\n\u001b[0;32m---> 63\u001b[0m result \u001b[38;5;241m=\u001b[39m \u001b[38;5;28;43mself\u001b[39;49m\u001b[38;5;241;43m.\u001b[39;49m\u001b[43m_recognize\u001b[49m\u001b[43m(\u001b[49m\u001b[43mreq\u001b[49m\u001b[43m,\u001b[49m\u001b[43m \u001b[49m\u001b[43mtimeout\u001b[49m\u001b[43m,\u001b[49m\u001b[43m \u001b[49m\u001b[43mretry\u001b[49m\u001b[43m)\u001b[49m\n\u001b[1;32m     64\u001b[0m result_dict \u001b[38;5;241m=\u001b[39m proto\u001b[38;5;241m.\u001b[39mMessage\u001b[38;5;241m.\u001b[39mto_dict(result)\n\u001b[1;32m     65\u001b[0m out \u001b[38;5;241m=\u001b[39m ObjectRecognitionOutMsg(\u001b[38;5;241m*\u001b[39m\u001b[38;5;241m*\u001b[39mresult_dict)\n",
      "File \u001b[0;32m~/miniconda3/envs/appbuilder_test/lib/python3.8/site-packages/appbuilder/core/components/object_recognize/component.py:89\u001b[0m, in \u001b[0;36mObjectRecognition._recognize\u001b[0;34m(self, request, timeout, retry)\u001b[0m\n\u001b[1;32m     87\u001b[0m data \u001b[38;5;241m=\u001b[39m response\u001b[38;5;241m.\u001b[39mjson()\n\u001b[1;32m     88\u001b[0m \u001b[38;5;28msuper\u001b[39m()\u001b[38;5;241m.\u001b[39mcheck_response_json(data)\n\u001b[0;32m---> 89\u001b[0m \u001b[38;5;28;43mself\u001b[39;49m\u001b[38;5;241;43m.\u001b[39;49m\u001b[38;5;18;43m__class__\u001b[39;49m\u001b[38;5;241;43m.\u001b[39;49m\u001b[43m_check_service_error\u001b[49m\u001b[43m(\u001b[49m\u001b[43mdata\u001b[49m\u001b[43m)\u001b[49m\n\u001b[1;32m     90\u001b[0m request_id \u001b[38;5;241m=\u001b[39m \u001b[38;5;28mself\u001b[39m\u001b[38;5;241m.\u001b[39mresponse_request_id(response)\n\u001b[1;32m     91\u001b[0m object_response \u001b[38;5;241m=\u001b[39m ObjectRecognitionResponse\u001b[38;5;241m.\u001b[39mfrom_json(payload\u001b[38;5;241m=\u001b[39mjson\u001b[38;5;241m.\u001b[39mdumps(data))\n",
      "File \u001b[0;32m~/miniconda3/envs/appbuilder_test/lib/python3.8/site-packages/appbuilder/core/components/object_recognize/component.py:104\u001b[0m, in \u001b[0;36mObjectRecognition._check_service_error\u001b[0;34m(data)\u001b[0m\n\u001b[1;32m     97\u001b[0m \u001b[38;5;250m\u001b[39m\u001b[38;5;124mr\u001b[39m\u001b[38;5;124;03m\"\"\"个性化服务response参数检查\u001b[39;00m\n\u001b[1;32m     98\u001b[0m \u001b[38;5;124;03m    参数:\u001b[39;00m\n\u001b[1;32m     99\u001b[0m \u001b[38;5;124;03m        request (dict) : 通用物体与场景识别body返回\u001b[39;00m\n\u001b[1;32m    100\u001b[0m \u001b[38;5;124;03m    返回：\u001b[39;00m\n\u001b[1;32m    101\u001b[0m \u001b[38;5;124;03m        无\u001b[39;00m\n\u001b[1;32m    102\u001b[0m \u001b[38;5;124;03m\"\"\"\u001b[39;00m\n\u001b[1;32m    103\u001b[0m \u001b[38;5;28;01mif\u001b[39;00m \u001b[38;5;124m\"\u001b[39m\u001b[38;5;124merror_code\u001b[39m\u001b[38;5;124m\"\u001b[39m \u001b[38;5;129;01min\u001b[39;00m data \u001b[38;5;129;01mor\u001b[39;00m \u001b[38;5;124m\"\u001b[39m\u001b[38;5;124merror_msg\u001b[39m\u001b[38;5;124m\"\u001b[39m \u001b[38;5;129;01min\u001b[39;00m data:\n\u001b[0;32m--> 104\u001b[0m     \u001b[38;5;28;01mraise\u001b[39;00m AppBuilderServerException(service_err_code\u001b[38;5;241m=\u001b[39mdata\u001b[38;5;241m.\u001b[39mget(\u001b[38;5;124m\"\u001b[39m\u001b[38;5;124merror_code\u001b[39m\u001b[38;5;124m\"\u001b[39m),\n\u001b[1;32m    105\u001b[0m                                     service_err_message\u001b[38;5;241m=\u001b[39mdata\u001b[38;5;241m.\u001b[39mget(\u001b[38;5;124m\"\u001b[39m\u001b[38;5;124merror_msg\u001b[39m\u001b[38;5;124m\"\u001b[39m))\n",
      "\u001b[0;31mAppBuilderServerException\u001b[0m: request_id=, code=, message=, service_err_code=14, service_err_message=IAM Certification failed "
     ]
    }
   ],
   "source": [
    "import appbuilder\n",
    "\n",
    "# 打开需要识别的图像文件\n",
    "with open(\"./assets/shishen.jpeg\", \"rb\") as f:\n",
    "    # 创建物体识别组件实例\n",
    "    object_recognition = appbuilder.ObjectRecognition()\n",
    "    # 执行识别操作并获取结果\n",
    "    out = object_recognition.run(appbuilder.Message(content={\"raw_image\": f.read()}))\n",
    "    print(out.content)"
   ]
  },
  {
   "cell_type": "markdown",
   "id": "648a7b77-dc20-4d6f-924d-f03ed0ea0ab9",
   "metadata": {},
   "source": [
    "# 口语化Query生成（OralQueryGeneration）"
   ]
  },
  {
   "cell_type": "code",
   "execution_count": 63,
   "id": "94a48d1e-4c80-4f89-a8f5-bb0ca773b65d",
   "metadata": {},
   "outputs": [
    {
     "name": "stdout",
     "output_type": "stream",
     "text": [
      "1、OPPO Reno5上的超级防抖\n",
      "2、怎么开启OPPO Reno5的超级防抖\n",
      "3、OPPO Reno5的超级防抖Pro\n",
      "4、前置视频上的超级防抖\n",
      "5、走路拍视频怎么稳定\n",
      "6、OPPO Reno5的超级防抖算法\n",
      "7、OPPO Reno5的多代视频防抖\n",
      "8、OPPO Reno5的超级防抖怎么用\n",
      "9、OPPO Reno5的超级防抖如何开启\n",
      "10、OPPO Reno5的超级防抖Pro如何使用\n"
     ]
    }
   ],
   "source": [
    "import appbuilder\n",
    "\n",
    "text = ('文档标题：在OPPO Reno5上使用视频超级防抖'\n",
    "        '文档摘要：OPPO Reno5上的视频超级防抖，视频超级防抖3.0，多代视频防抖算法积累，这一代依旧超级防抖超级稳。 开启视频超级'\n",
    "        '防抖 开启路径：打开「相机 > 视频 > 点击屏幕上方的“超级防抖”标识」 后置视频同时支持超级防抖和超级防抖Pro功能，开启超级'\n",
    "        '防抖后手机屏幕将出现超级防抖Pro开关，点击即可开启或关闭。 除此之外，前置视频同样加持防抖算法，边走边拍也能稳定聚焦脸部'\n",
    "        '，实时视频分享您的生活。')\n",
    "oral_query_generation = appbuilder.OralQueryGeneration(model='eb-turbo-appbuilder')\n",
    "answer = oral_query_generation(appbuilder.Message(text))\n",
    "print(answer.content)"
   ]
  },
  {
   "cell_type": "markdown",
   "id": "370b6f02-1ff9-4a4b-9ef9-6411cf49f660",
   "metadata": {},
   "source": [
    "# playground空应用（Playground）"
   ]
  },
  {
   "cell_type": "code",
   "execution_count": 64,
   "id": "662242a4-e607-4095-bc62-e4fed0fe1bbb",
   "metadata": {},
   "outputs": [
    {
     "data": {
      "text/plain": [
       "Message(name='msg', content='你好，小红！我很好，谢谢。你有什么问题或者想聊些什么吗？', mtype='dict')"
      ]
     },
     "execution_count": 64,
     "metadata": {},
     "output_type": "execute_result"
    }
   ],
   "source": [
    "import appbuilder\n",
    "\n",
    "play = appbuilder.Playground(\n",
    "    prompt_template=\"你好，{name}，我是{bot_name}，{bot_name}是一个{bot_type}，我可以{bot_function}，你可以问我{bot_question}。\",\n",
    "    model=\"ernie-bot-4\"\n",
    ")\n",
    "play(appbuilder.Message({\"name\": \"小明\", \"bot_name\": \"小红\", \"bot_type\": \"聊天机器人\", \"bot_function\": \"聊天\", \"bot_question\": \"你好吗？\"}), stream=False)"
   ]
  },
  {
   "cell_type": "markdown",
   "id": "b8ad6225-72af-4463-baff-7541f6bd8a2c",
   "metadata": {},
   "source": [
    "# 问答对挖掘（QAPairMining）"
   ]
  },
  {
   "cell_type": "code",
   "execution_count": 65,
   "id": "b301f65a-b098-4e5f-af1f-63da279a5df0",
   "metadata": {},
   "outputs": [
    {
     "name": "stdout",
     "output_type": "stream",
     "text": [
      ">>> Output: 问题：2017年，工商银行是如何应对外部宏观环境变化的？\n",
      "答案：工商银行根据外部宏观环境变化，及时调整业务策略，优化资产负债结构，保持存贷款业务协调发展，提升资产负债配置效率。\n",
      "\n",
      "问题：2018年3月末，工商银行总资产是多少？\n",
      "答案：264,937.81亿元。\n"
     ]
    }
   ],
   "source": [
    "\n",
    "import appbuilder\n",
    "\n",
    "qa_mining = appbuilder.QAPairMining(model=\"eb-turbo-appbuilder\")\n",
    "# 输入文本（对此文本挖掘问答对）\n",
    "msg = '2017年，工商银行根据外部宏观环境变化，及时调整业务策略，优化资产负债结构，' +     '保持存贷款业务协调发展，提升资产负债配置效率。' +     '2018年3月末，工商银行总资产264,937.81亿元，比上年末增加4,067.38亿元.'\n",
    "msg = appbuilder.Message(msg)\n",
    "answer = qa_mining(msg)\n",
    "\n",
    "print(\">>> Output: {}\".format(answer.content))"
   ]
  },
  {
   "cell_type": "markdown",
   "id": "7283d514-6c1b-4e1a-badf-906013da3a22",
   "metadata": {},
   "source": [
    "# 复杂Query分解（QueryDecomposition）"
   ]
  },
  {
   "cell_type": "code",
   "execution_count": 67,
   "id": "015e6117-8687-4cff-97c6-7c7d60cf86bc",
   "metadata": {},
   "outputs": [
    {
     "name": "stdout",
     "output_type": "stream",
     "text": [
      "Answer: 1. 什么是吸塑包装盒？\n",
      "2. 吸塑包装盒在工业化生产中有哪些重要性？\n",
      "3. 吸塑包装盒在物流运输中有哪些重要性？\n"
     ]
    }
   ],
   "source": [
    "import appbuilder\n",
    "query_decomposition = appbuilder.QueryDecomposition(model=\"eb-turbo-appbuilder\")\n",
    "\n",
    "msg = \"吸塑包装盒在工业化生产和物流运输中分别有什么重要性？\"\n",
    "msg = appbuilder.Message(msg)\n",
    "answer = query_decomposition(msg)\n",
    "\n",
    "print(\"Answer: {}\".format(answer.content))"
   ]
  },
  {
   "cell_type": "markdown",
   "id": "37b2e511-19cf-4fb3-bf2d-0fbf03998cd6",
   "metadata": {},
   "source": [
    "# Query改写 (QueryRewrite)"
   ]
  },
  {
   "cell_type": "code",
   "execution_count": 69,
   "id": "8e63eaa1-e40c-4e4e-86a9-2cd483b09218",
   "metadata": {},
   "outputs": [
    {
     "name": "stdout",
     "output_type": "stream",
     "text": [
      "Message(name=msg, content=护照的办理地点是户籍所在地的公安局出入境管理处。, mtype=dict)\n"
     ]
    }
   ],
   "source": [
    "import appbuilder\n",
    "\n",
    "# 初始化并使用 QueryRewrite 组件\n",
    "query_rewrite = appbuilder.QueryRewrite(model=\"ernie-bot-4\")\n",
    "answer = query_rewrite(appbuilder.Message(['我应该怎么办理护照？', '您可以查询官网或人工咨询', '我需要准备哪些材料？', '身份证、免冠照片一张以及填写完整的《中国公民因私出国（境）申请表》', '在哪里办']), rewrite_type=\"带机器人回复\")\n",
    "print(answer)"
   ]
  },
  {
   "cell_type": "markdown",
   "id": "185cdd6b-cdb5-438d-8e96-fe17737c0fc3",
   "metadata": {},
   "source": [
    "# 向量检索（BESRetriever）"
   ]
  },
  {
   "cell_type": "code",
   "execution_count": 70,
   "id": "e621de2b-5645-402f-b75c-f45ef5ab6031",
   "metadata": {},
   "outputs": [
    {
     "ename": "NameError",
     "evalue": "name 'es_cluster_id' is not defined",
     "output_type": "error",
     "traceback": [
      "\u001b[0;31m---------------------------------------------------------------------------\u001b[0m",
      "\u001b[0;31mNameError\u001b[0m                                 Traceback (most recent call last)",
      "Cell \u001b[0;32mIn[70], line 6\u001b[0m\n\u001b[1;32m      4\u001b[0m segments \u001b[38;5;241m=\u001b[39m appbuilder\u001b[38;5;241m.\u001b[39mMessage([\u001b[38;5;124m\"\u001b[39m\u001b[38;5;124m文心一言大模型\u001b[39m\u001b[38;5;124m\"\u001b[39m, \u001b[38;5;124m\"\u001b[39m\u001b[38;5;124m百度在线科技有限公司\u001b[39m\u001b[38;5;124m\"\u001b[39m])\n\u001b[1;32m      5\u001b[0m \u001b[38;5;66;03m# 初始化构建索引\u001b[39;00m\n\u001b[0;32m----> 6\u001b[0m vector_index \u001b[38;5;241m=\u001b[39m appbuilder\u001b[38;5;241m.\u001b[39mBESVectorStoreIndex\u001b[38;5;241m.\u001b[39mfrom_segments(segments\u001b[38;5;241m=\u001b[39msegments, cluster_id\u001b[38;5;241m=\u001b[39m\u001b[43mes_cluster_id\u001b[49m, user_name\u001b[38;5;241m=\u001b[39mes_username, \n\u001b[1;32m      7\u001b[0m                                                             password\u001b[38;5;241m=\u001b[39mes_password, embedding\u001b[38;5;241m=\u001b[39membedding)\n\u001b[1;32m      8\u001b[0m \u001b[38;5;66;03m# 获取当前索引中的全部内容\u001b[39;00m\n\u001b[1;32m      9\u001b[0m all_content \u001b[38;5;241m=\u001b[39m vector_index\u001b[38;5;241m.\u001b[39mget_all_segments()\n",
      "\u001b[0;31mNameError\u001b[0m: name 'es_cluster_id' is not defined"
     ]
    }
   ],
   "source": [
    "\n",
    "import appbuilder\n",
    "\n",
    "embedding = appbuilder.Embedding()\n",
    "segments = appbuilder.Message([\"文心一言大模型\", \"百度在线科技有限公司\"])\n",
    "# 初始化构建索引\n",
    "vector_index = appbuilder.BESVectorStoreIndex.from_segments(segments=segments, cluster_id=es_cluster_id, user_name=es_username, \n",
    "                                                            password=es_password, embedding=embedding)\n",
    "# 获取当前索引中的全部内容\n",
    "all_content = vector_index.get_all_segments()\n",
    "print(all_content)\n",
    "# 转化为retriever\n",
    "retriever = vector_index.as_retriever()\n",
    "# 按照query进行检索\n",
    "query = appbuilder.Message(\"文心一言\")\n",
    "res = retriever(query=query, top_k=1)\n",
    "print(res)\n",
    "# 删除当前索引中的全部内容\n",
    "vector_index.delete_all_segments()"
   ]
  },
  {
   "cell_type": "markdown",
   "id": "c9ec745f-f5b9-4937-9738-b868c5eb16ee",
   "metadata": {},
   "source": [
    "# 相似问生成（SimilarQuestion）"
   ]
  },
  {
   "cell_type": "code",
   "execution_count": 73,
   "id": "6e99c913-58cd-4532-b8a5-5d33868612bb",
   "metadata": {},
   "outputs": [
    {
     "name": "stdout",
     "output_type": "stream",
     "text": [
      "Answer: 1. 千帆的Ernie-bot 4.0接口的qps是多少？\n",
      "2. 千帆的Ernie-bot 4.0接口的qps能达到多少？\n",
      "3. 千帆的Ernie-bot 4.0接口的qps性能如何？\n",
      "4. 千帆的Ernie-bot 4.0接口的qps能达到多少个请求/秒？\n",
      "5. 千帆的Ernie-bot 4.0接口的qps是多少次/秒？\n",
      "6. 千帆的Ernie-bot 4.0接口的qps是多少个请求/秒？\n",
      "7. 千帆的Ernie-bot 4.0接口的qps是多少次/秒？\n",
      "8. 千帆的Ernie-bot 4.0接口的qps是多少个请求/秒？\n",
      "9. 千帆的Ernie-bot 4.0接口的qps是多少次/秒？\n",
      "10. 千帆的Ernie-bot 4.0接口的qps是多少个请求/秒？\n"
     ]
    }
   ],
   "source": [
    "\n",
    "import appbuilder\n",
    "similar_question = appbuilder.SimilarQuestion(model=\"eb-turbo-appbuilder\")\n",
    "\n",
    "msg = \"千帆的Ernie-bot 4.0接口的qps是多少\"\n",
    "msg = appbuilder.Message(msg)\n",
    "answer = similar_question(msg)\n",
    "\n",
    "print(\"Answer: {}\".format(answer.content))"
   ]
  },
  {
   "cell_type": "markdown",
   "id": "750d2c6d-936b-4ac7-9874-c3a96369daf6",
   "metadata": {},
   "source": [
    "# 风格转写（StyleRewrite）\n",
    "https://cloud.baidu.com/doc/AppBuilder/s/Mlqgd1iww"
   ]
  },
  {
   "cell_type": "code",
   "execution_count": 75,
   "id": "2c8ead6e-6932-463c-aee7-92bd96d8e03b",
   "metadata": {},
   "outputs": [
    {
     "name": "stdout",
     "output_type": "stream",
     "text": [
      "Message(name=msg, content=文心大模型推出最新版本, mtype=dict)\n"
     ]
    }
   ],
   "source": [
    "\n",
    "import appbuilder\n",
    "\n",
    "# 初始化并使用 StyleRewrite 组件\n",
    "style_rewrite = appbuilder.StyleRewrite(model=\"ernie-bot-4\")\n",
    "answer = style_rewrite(appbuilder.Message(\"文心大模型发布新版\"), style=\"激励话术\")\n",
    "print(answer)"
   ]
  },
  {
   "cell_type": "markdown",
   "id": "cb9a7c81-fbdb-45e7-986d-b30c3af1ba67",
   "metadata": {},
   "source": [
    "# 风格写作（StyleWriting）"
   ]
  },
  {
   "cell_type": "code",
   "execution_count": 76,
   "id": "1cedca34-7009-4e1c-a35d-58512adb9914",
   "metadata": {},
   "outputs": [
    {
     "name": "stdout",
     "output_type": "stream",
     "text": [
      "Message(name=msg, content=【打工人久等啦！人体工学椅终于到了！🎉】\n",
      "\n",
      "🔥打工人的腰不好的宝子一定要来试试人体工学椅！💺💺💺\n",
      "\n",
      "💺这款人体工学椅是根据人体工程学设计的，靠在椅子上，就像有双手把你从背部托起，腰部包裹感很强，久坐不累，不会像普通椅子那样一坐就难受😭😭\n",
      "\n",
      "👏腰撑的包裹感就像有双手在托起你的腰部，真的太舒服了🤩🤩\n",
      "\n",
      "💺有分区设计，椅子的靠背和腰撑都有不同的部位可以支撑到腰部，整个椅子的设计非常人性化😍😍\n",
      "\n",
      "👏做工也不错，金属支架，很稳重，安装也很简单，没有多余的线头，颜值非常高👍👍\n",
      "\n",
      "💺打工人的老腰有救了！赶紧入手吧💖💖💖\n",
      "\n",
      "#人体工学椅 #办公室日常 #办公椅 #打工人必备 #办公室好物 #办公桌改造, mtype=dict)\n"
     ]
    }
   ],
   "source": [
    "\n",
    "import appbuilder\n",
    "\n",
    "\n",
    "model = \"eb-turbo-appbuilder\"\n",
    "style_writing = appbuilder.StyleWriting(model)\n",
    "\n",
    "query = \"帮我写一篇关于人体工学椅的文案\"\n",
    "style = \"小红书\"\n",
    "length = 100\n",
    "\n",
    "msg = appbuilder.Message(query)\n",
    "answer = style_writing(msg, style, length)\n",
    "print(answer)"
   ]
  },
  {
   "cell_type": "markdown",
   "id": "28bfcea4-4198-4eb3-bbf5-d323ab2d5674",
   "metadata": {},
   "source": [
    "# 标签抽取（TagExtraction）"
   ]
  },
  {
   "cell_type": "code",
   "execution_count": 80,
   "id": "de166804-2afa-459b-9935-7665ebfb04a7",
   "metadata": {},
   "outputs": [
    {
     "name": "stdout",
     "output_type": "stream",
     "text": [
      "Message(name=msg, content=1.文本抽取\n",
      "2.关键标签\n",
      "3.主题归纳\n",
      "4.字符生成\n",
      "5.数字编号\n",
      "6.不超过7字\n",
      "7.全文出现\n",
      "8.没有见过\n",
      "9.10个结果\n",
      "10.编号输出, mtype=dict)\n"
     ]
    }
   ],
   "source": [
    "import appbuilder\n",
    "tag_extraction = appbuilder.TagExtraction(model=\"ernie-bot-4\")\n",
    "result = tag_extraction(appbuilder.Message(\"从这段文本中抽取关键标签\"))\n",
    "print(result)"
   ]
  },
  {
   "cell_type": "markdown",
   "id": "46a468c2-bb67-4f00-935d-0c53d77de620",
   "metadata": {},
   "source": [
    "# AI作画-高级版 (Text2Image)"
   ]
  },
  {
   "cell_type": "code",
   "execution_count": 83,
   "id": "0f9d9023-cf2e-43c1-a78b-96d3efe53910",
   "metadata": {},
   "outputs": [
    {
     "ename": "AppBuilderServerException",
     "evalue": "request_id=, code=, message=, service_err_code=14, service_err_message=IAM Certification failed ",
     "output_type": "error",
     "traceback": [
      "\u001b[0;31m---------------------------------------------------------------------------\u001b[0m",
      "\u001b[0;31mAppBuilderServerException\u001b[0m                 Traceback (most recent call last)",
      "Cell \u001b[0;32mIn[83], line 6\u001b[0m\n\u001b[1;32m      4\u001b[0m content_data \u001b[38;5;241m=\u001b[39m {\u001b[38;5;124m\"\u001b[39m\u001b[38;5;124mprompt\u001b[39m\u001b[38;5;124m\"\u001b[39m: \u001b[38;5;124m\"\u001b[39m\u001b[38;5;124m上海的经典风景\u001b[39m\u001b[38;5;124m\"\u001b[39m, \u001b[38;5;124m\"\u001b[39m\u001b[38;5;124mwidth\u001b[39m\u001b[38;5;124m\"\u001b[39m: \u001b[38;5;241m1024\u001b[39m, \u001b[38;5;124m\"\u001b[39m\u001b[38;5;124mheight\u001b[39m\u001b[38;5;124m\"\u001b[39m: \u001b[38;5;241m1024\u001b[39m, \u001b[38;5;124m\"\u001b[39m\u001b[38;5;124mimage_num\u001b[39m\u001b[38;5;124m\"\u001b[39m: \u001b[38;5;241m1\u001b[39m}\n\u001b[1;32m      5\u001b[0m msg \u001b[38;5;241m=\u001b[39m appbuilder\u001b[38;5;241m.\u001b[39mMessage(content_data)\n\u001b[0;32m----> 6\u001b[0m out \u001b[38;5;241m=\u001b[39m \u001b[43mtext2Image\u001b[49m\u001b[38;5;241;43m.\u001b[39;49m\u001b[43mrun\u001b[49m\u001b[43m(\u001b[49m\u001b[43mmsg\u001b[49m\u001b[43m)\u001b[49m\n\u001b[1;32m      7\u001b[0m \u001b[38;5;28mprint\u001b[39m(out\u001b[38;5;241m.\u001b[39mcontent)\n",
      "File \u001b[0;32m~/miniconda3/envs/appbuilder_test/lib/python3.8/site-packages/appbuilder/core/components/text_to_image/component.py:66\u001b[0m, in \u001b[0;36mText2Image.run\u001b[0;34m(self, message, width, height, image_num, timeout, retry)\u001b[0m\n\u001b[1;32m     64\u001b[0m text2ImageSubmitRequest\u001b[38;5;241m.\u001b[39mheight \u001b[38;5;241m=\u001b[39m height\n\u001b[1;32m     65\u001b[0m text2ImageSubmitRequest\u001b[38;5;241m.\u001b[39mimage_num \u001b[38;5;241m=\u001b[39m image_num\n\u001b[0;32m---> 66\u001b[0m text2ImageSubmitResponse \u001b[38;5;241m=\u001b[39m \u001b[38;5;28;43mself\u001b[39;49m\u001b[38;5;241;43m.\u001b[39;49m\u001b[43msubmitText2ImageTask\u001b[49m\u001b[43m(\u001b[49m\u001b[43mtext2ImageSubmitRequest\u001b[49m\u001b[43m)\u001b[49m\n\u001b[1;32m     67\u001b[0m taskId \u001b[38;5;241m=\u001b[39m text2ImageSubmitResponse\u001b[38;5;241m.\u001b[39mdata\u001b[38;5;241m.\u001b[39mprimary_task_id\n\u001b[1;32m     68\u001b[0m \u001b[38;5;28;01mif\u001b[39;00m taskId \u001b[38;5;129;01mis\u001b[39;00m \u001b[38;5;129;01mnot\u001b[39;00m \u001b[38;5;28;01mNone\u001b[39;00m:\n",
      "File \u001b[0;32m~/miniconda3/envs/appbuilder_test/lib/python3.8/site-packages/appbuilder/core/components/text_to_image/component.py:106\u001b[0m, in \u001b[0;36mText2Image.submitText2ImageTask\u001b[0;34m(self, request, timeout, retry)\u001b[0m\n\u001b[1;32m    104\u001b[0m data \u001b[38;5;241m=\u001b[39m response\u001b[38;5;241m.\u001b[39mjson()\n\u001b[1;32m    105\u001b[0m \u001b[38;5;28msuper\u001b[39m()\u001b[38;5;241m.\u001b[39mcheck_response_json(data)\n\u001b[0;32m--> 106\u001b[0m \u001b[38;5;28;43mself\u001b[39;49m\u001b[38;5;241;43m.\u001b[39;49m\u001b[38;5;18;43m__class__\u001b[39;49m\u001b[38;5;241;43m.\u001b[39;49m\u001b[43mcheck_service_error\u001b[49m\u001b[43m(\u001b[49m\u001b[43mdata\u001b[49m\u001b[43m)\u001b[49m\n\u001b[1;32m    107\u001b[0m request_id \u001b[38;5;241m=\u001b[39m response\u001b[38;5;241m.\u001b[39mheaders\u001b[38;5;241m.\u001b[39mget(\u001b[38;5;124m'\u001b[39m\u001b[38;5;124mX-Appbuilder-Request-Id\u001b[39m\u001b[38;5;124m'\u001b[39m)\n\u001b[1;32m    108\u001b[0m response \u001b[38;5;241m=\u001b[39m Text2ImageSubmitResponse\u001b[38;5;241m.\u001b[39mfrom_json(payload\u001b[38;5;241m=\u001b[39mjson\u001b[38;5;241m.\u001b[39mdumps(data))\n",
      "File \u001b[0;32m~/miniconda3/envs/appbuilder_test/lib/python3.8/site-packages/appbuilder/core/components/text_to_image/component.py:173\u001b[0m, in \u001b[0;36mText2Image.check_service_error\u001b[0;34m(data)\u001b[0m\n\u001b[1;32m    165\u001b[0m \u001b[38;5;250m\u001b[39m\u001b[38;5;124mr\u001b[39m\u001b[38;5;124;03m\"\"\"个性化服务response参数检查\u001b[39;00m\n\u001b[1;32m    166\u001b[0m \n\u001b[1;32m    167\u001b[0m \u001b[38;5;124;03m    参数:\u001b[39;00m\n\u001b[0;32m   (...)\u001b[0m\n\u001b[1;32m    170\u001b[0m \u001b[38;5;124;03m        无\u001b[39;00m\n\u001b[1;32m    171\u001b[0m \u001b[38;5;124;03m\"\"\"\u001b[39;00m\n\u001b[1;32m    172\u001b[0m \u001b[38;5;28;01mif\u001b[39;00m \u001b[38;5;124m\"\u001b[39m\u001b[38;5;124merror_code\u001b[39m\u001b[38;5;124m\"\u001b[39m \u001b[38;5;129;01min\u001b[39;00m data \u001b[38;5;129;01mor\u001b[39;00m \u001b[38;5;124m\"\u001b[39m\u001b[38;5;124merror_msg\u001b[39m\u001b[38;5;124m\"\u001b[39m \u001b[38;5;129;01min\u001b[39;00m data:\n\u001b[0;32m--> 173\u001b[0m     \u001b[38;5;28;01mraise\u001b[39;00m AppBuilderServerException(service_err_code\u001b[38;5;241m=\u001b[39mdata\u001b[38;5;241m.\u001b[39mget(\u001b[38;5;124m\"\u001b[39m\u001b[38;5;124merror_code\u001b[39m\u001b[38;5;124m\"\u001b[39m),\n\u001b[1;32m    174\u001b[0m                                     service_err_message\u001b[38;5;241m=\u001b[39mdata\u001b[38;5;241m.\u001b[39mget(\u001b[38;5;124m\"\u001b[39m\u001b[38;5;124merror_msg\u001b[39m\u001b[38;5;124m\"\u001b[39m))\n",
      "\u001b[0;31mAppBuilderServerException\u001b[0m: request_id=, code=, message=, service_err_code=14, service_err_message=IAM Certification failed "
     ]
    }
   ],
   "source": [
    "import appbuilder\n",
    "\n",
    "text2Image = appbuilder.Text2Image()\n",
    "content_data = {\"prompt\": \"上海的经典风景\", \"width\": 1024, \"height\": 1024, \"image_num\": 1}\n",
    "msg = appbuilder.Message(content_data)\n",
    "out = text2Image.run(msg)\n",
    "print(out.content)"
   ]
  },
  {
   "cell_type": "markdown",
   "id": "b018659c-750c-46ef-b438-cac8797be5a4",
   "metadata": {},
   "source": [
    "# 文本翻译-通用版（Translation）"
   ]
  },
  {
   "cell_type": "code",
   "execution_count": 84,
   "id": "c26a64b5-272b-4311-b248-5365cb5e676c",
   "metadata": {},
   "outputs": [
    {
     "ename": "AppBuilderServerException",
     "evalue": "request_id=, code=, message=, service_err_code=14, service_err_message=IAM Certification failed ",
     "output_type": "error",
     "traceback": [
      "\u001b[0;31m---------------------------------------------------------------------------\u001b[0m",
      "\u001b[0;31mAppBuilderServerException\u001b[0m                 Traceback (most recent call last)",
      "Cell \u001b[0;32mIn[84], line 5\u001b[0m\n\u001b[1;32m      1\u001b[0m \u001b[38;5;28;01mimport\u001b[39;00m \u001b[38;5;21;01mappbuilder\u001b[39;00m\n\u001b[1;32m      4\u001b[0m translate \u001b[38;5;241m=\u001b[39m appbuilder\u001b[38;5;241m.\u001b[39mTranslation()\n\u001b[0;32m----> 5\u001b[0m resp \u001b[38;5;241m=\u001b[39m \u001b[43mtranslate\u001b[49m\u001b[43m(\u001b[49m\u001b[43mappbuilder\u001b[49m\u001b[38;5;241;43m.\u001b[39;49m\u001b[43mMessage\u001b[49m\u001b[43m(\u001b[49m\u001b[38;5;124;43m\"\u001b[39;49m\u001b[38;5;124;43m你好中国\u001b[39;49m\u001b[38;5;124;43m\"\u001b[39;49m\u001b[43m)\u001b[49m\u001b[43m,\u001b[49m\u001b[43m \u001b[49m\u001b[43mfrom_lang\u001b[49m\u001b[38;5;241;43m=\u001b[39;49m\u001b[38;5;124;43m\"\u001b[39;49m\u001b[38;5;124;43mzh\u001b[39;49m\u001b[38;5;124;43m\"\u001b[39;49m\u001b[43m,\u001b[49m\u001b[43m \u001b[49m\u001b[43mto_lang\u001b[49m\u001b[38;5;241;43m=\u001b[39;49m\u001b[38;5;124;43m\"\u001b[39;49m\u001b[38;5;124;43men\u001b[39;49m\u001b[38;5;124;43m\"\u001b[39;49m\u001b[43m)\u001b[49m\n\u001b[1;32m      6\u001b[0m \u001b[38;5;66;03m# 输出{'from_lang': 'zh', 'to_lang': 'en', 'trans_result': [{'src': '你好', 'dst': 'hello'}, {'src': '中国', 'dst': 'China'}]}\u001b[39;00m\n\u001b[1;32m      7\u001b[0m \u001b[38;5;28mprint\u001b[39m(resp\u001b[38;5;241m.\u001b[39mcontent)\n",
      "File \u001b[0;32m~/miniconda3/envs/appbuilder_test/lib/python3.8/site-packages/appbuilder/core/component.py:94\u001b[0m, in \u001b[0;36mComponent.__call__\u001b[0;34m(self, *inputs, **kwargs)\u001b[0m\n\u001b[1;32m     92\u001b[0m \u001b[38;5;28;01mdef\u001b[39;00m \u001b[38;5;21m__call__\u001b[39m(\u001b[38;5;28mself\u001b[39m, \u001b[38;5;241m*\u001b[39minputs, \u001b[38;5;241m*\u001b[39m\u001b[38;5;241m*\u001b[39mkwargs):\n\u001b[1;32m     93\u001b[0m \u001b[38;5;250m    \u001b[39m\u001b[38;5;124mr\u001b[39m\u001b[38;5;124;03m\"\"\"implement __call__ method\"\"\"\u001b[39;00m\n\u001b[0;32m---> 94\u001b[0m     \u001b[38;5;28;01mreturn\u001b[39;00m \u001b[38;5;28;43mself\u001b[39;49m\u001b[38;5;241;43m.\u001b[39;49m\u001b[43mrun\u001b[49m\u001b[43m(\u001b[49m\u001b[38;5;241;43m*\u001b[39;49m\u001b[43minputs\u001b[49m\u001b[43m,\u001b[49m\u001b[43m \u001b[49m\u001b[38;5;241;43m*\u001b[39;49m\u001b[38;5;241;43m*\u001b[39;49m\u001b[43mkwargs\u001b[49m\u001b[43m)\u001b[49m\n",
      "File \u001b[0;32m~/miniconda3/envs/appbuilder_test/lib/python3.8/site-packages/appbuilder/core/components/translate/component.py:68\u001b[0m, in \u001b[0;36mTranslation.run\u001b[0;34m(self, message, from_lang, to_lang, timeout, retry)\u001b[0m\n\u001b[1;32m     66\u001b[0m req\u001b[38;5;241m.\u001b[39mfrom_lang \u001b[38;5;241m=\u001b[39m from_lang\n\u001b[1;32m     67\u001b[0m req\u001b[38;5;241m.\u001b[39mto_lang \u001b[38;5;241m=\u001b[39m to_lang\n\u001b[0;32m---> 68\u001b[0m result \u001b[38;5;241m=\u001b[39m \u001b[38;5;28;43mself\u001b[39;49m\u001b[38;5;241;43m.\u001b[39;49m\u001b[43m_translate\u001b[49m\u001b[43m(\u001b[49m\u001b[43mreq\u001b[49m\u001b[43m,\u001b[49m\u001b[43m \u001b[49m\u001b[43mtimeout\u001b[49m\u001b[38;5;241;43m=\u001b[39;49m\u001b[43mtimeout\u001b[49m\u001b[43m,\u001b[49m\u001b[43m \u001b[49m\u001b[43mretry\u001b[49m\u001b[38;5;241;43m=\u001b[39;49m\u001b[43mretry\u001b[49m\u001b[43m)\u001b[49m\n\u001b[1;32m     69\u001b[0m result_dict \u001b[38;5;241m=\u001b[39m proto\u001b[38;5;241m.\u001b[39mMessage\u001b[38;5;241m.\u001b[39mto_dict(result)\n\u001b[1;32m     71\u001b[0m out \u001b[38;5;241m=\u001b[39m TranslateOutMsg(\u001b[38;5;241m*\u001b[39m\u001b[38;5;241m*\u001b[39mresult_dict[\u001b[38;5;124m\"\u001b[39m\u001b[38;5;124mresult\u001b[39m\u001b[38;5;124m\"\u001b[39m])\n",
      "File \u001b[0;32m~/miniconda3/envs/appbuilder_test/lib/python3.8/site-packages/appbuilder/core/components/translate/component.py:105\u001b[0m, in \u001b[0;36mTranslation._translate\u001b[0;34m(self, request, timeout, retry)\u001b[0m\n\u001b[1;32m    103\u001b[0m \u001b[38;5;28mself\u001b[39m\u001b[38;5;241m.\u001b[39mcheck_response_json(data)\n\u001b[1;32m    104\u001b[0m \u001b[38;5;28;01mif\u001b[39;00m \u001b[38;5;124m\"\u001b[39m\u001b[38;5;124merror_code\u001b[39m\u001b[38;5;124m\"\u001b[39m \u001b[38;5;129;01min\u001b[39;00m data \u001b[38;5;129;01mand\u001b[39;00m \u001b[38;5;124m\"\u001b[39m\u001b[38;5;124merror_msg\u001b[39m\u001b[38;5;124m\"\u001b[39m \u001b[38;5;129;01min\u001b[39;00m data:\n\u001b[0;32m--> 105\u001b[0m     \u001b[38;5;28;01mraise\u001b[39;00m AppBuilderServerException(service_err_code\u001b[38;5;241m=\u001b[39mdata[\u001b[38;5;124m\"\u001b[39m\u001b[38;5;124merror_code\u001b[39m\u001b[38;5;124m\"\u001b[39m], service_err_message\u001b[38;5;241m=\u001b[39mdata[\u001b[38;5;124m\"\u001b[39m\u001b[38;5;124merror_msg\u001b[39m\u001b[38;5;124m\"\u001b[39m])\n\u001b[1;32m    107\u001b[0m json_str \u001b[38;5;241m=\u001b[39m json\u001b[38;5;241m.\u001b[39mdumps(data)\n\u001b[1;32m    108\u001b[0m \u001b[38;5;28;01mreturn\u001b[39;00m TranslateResponse(TranslateResponse\u001b[38;5;241m.\u001b[39mfrom_json(json_str))\n",
      "\u001b[0;31mAppBuilderServerException\u001b[0m: request_id=, code=, message=, service_err_code=14, service_err_message=IAM Certification failed "
     ]
    }
   ],
   "source": [
    "\n",
    "import appbuilder\n",
    "\n",
    "\n",
    "translate = appbuilder.Translation()\n",
    "resp = translate(appbuilder.Message(\"你好中国\"), from_lang=\"zh\", to_lang=\"en\")\n",
    "# 输出{'from_lang': 'zh', 'to_lang': 'en', 'trans_result': [{'src': '你好', 'dst': 'hello'}, {'src': '中国', 'dst': 'China'}]}\n",
    "print(resp.content)"
   ]
  },
  {
   "cell_type": "markdown",
   "id": "9177c8f7-93ab-4742-947d-c959f68a5208",
   "metadata": {},
   "source": [
    "# 短文本在线合成（TTS）"
   ]
  },
  {
   "cell_type": "code",
   "execution_count": 85,
   "id": "b3311fe2-f778-4e57-b139-28f378c791e5",
   "metadata": {},
   "outputs": [],
   "source": [
    "\n",
    "import appbuilder\n",
    "\n",
    "tts = appbuilder.TTS()\n",
    "\n",
    "# 使用baidu-tts模型, 默认返回MP3格式\n",
    "inp = appbuilder.Message(content={\"text\": \"欢迎使用语音合成\"})\n",
    "out = tts.run(inp)\n",
    "with open(\"sample.mp3\", \"wb\") as f:\n",
    "    f.write(out.content[\"audio_binary\"])\n",
    "\n",
    "# 使用paddlespeech-tts模型，目前只支持返回WAV格式\n",
    "inp = appbuilder.Message(content={\"text\": \"欢迎使用语音合成\"})\n",
    "out = tts.run(inp, model=\"paddlespeech-tts\", audio_type=\"wav\")\n",
    "with open(\"sample.wav\", \"wb\") as f:\n",
    "    f.write(out.content[\"audio_binary\"])"
   ]
  }
 ],
 "metadata": {
  "kernelspec": {
   "display_name": "Python 3",
   "language": "python",
   "name": "python3"
  },
  "language_info": {
   "codemirror_mode": {
    "name": "ipython",
    "version": 3
   },
   "file_extension": ".py",
   "mimetype": "text/x-python",
   "name": "python",
   "nbconvert_exporter": "python",
   "pygments_lexer": "ipython3",
   "version": "3.8.18"
  }
 },
 "nbformat": 4,
 "nbformat_minor": 5
}
